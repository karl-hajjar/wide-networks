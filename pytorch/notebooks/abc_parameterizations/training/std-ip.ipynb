{
 "cells": [
  {
   "cell_type": "code",
   "execution_count": 1,
   "metadata": {},
   "outputs": [],
   "source": [
    "%load_ext autoreload\n",
    "%autoreload 2"
   ]
  },
  {
   "cell_type": "code",
   "execution_count": 2,
   "metadata": {},
   "outputs": [],
   "source": [
    "#%matplotlib notebook\n",
    "%matplotlib inline"
   ]
  },
  {
   "cell_type": "code",
   "execution_count": 3,
   "metadata": {},
   "outputs": [],
   "source": [
    "import os\n",
    "cwd = os.getcwd()\n",
    "\n",
    "NOTEBOOK_DIR = os.path.dirname(cwd)\n",
    "ROOT = os.path.dirname(os.path.dirname(os.path.dirname(NOTEBOOK_DIR)))\n",
    "\n",
    "FIGURES_DIR = os.path.join(ROOT, 'figures/abc_parameterizations/training/mnist')\n",
    "# CONFIG_PATH = os.path.join(ROOT, 'pytorch/configs/abc_parameterizations/fc_abc.yaml')"
   ]
  },
  {
   "cell_type": "code",
   "execution_count": 4,
   "metadata": {},
   "outputs": [],
   "source": [
    "import sys\n",
    "sys.path.append(ROOT)"
   ]
  },
  {
   "cell_type": "code",
   "execution_count": 118,
   "metadata": {},
   "outputs": [],
   "source": [
    "import torch\n",
    "import pickle\n",
    "\n",
    "from utils.plot.abc_parameterizations.results import *\n",
    "\n",
    "\n",
    "\n",
    "from utils.tools import load_pickle\n",
    "\n",
    "from utils.tools import read_yaml, set_random_seeds\n",
    "from utils.plot.abc_parameterizations.initializations import *\n",
    "from utils.plot.abc_parameterizations.one_d_functions import *\n",
    "from pytorch.configs.base import BaseConfig\n",
    "from pytorch.configs.model import ModelConfig\n",
    "from pytorch.models.abc_params.fully_connected import ip, muP, ipllr\n",
    "from pytorch.models.abc_params.fully_connected.standard_fc_ip import StandardFCIP"
   ]
  },
  {
   "cell_type": "markdown",
   "metadata": {},
   "source": [
    "## Set variables"
   ]
  },
  {
   "cell_type": "code",
   "execution_count": 87,
   "metadata": {},
   "outputs": [],
   "source": [
    "L = 6\n",
    "WIDTH = 1024\n",
    "BASE_LR = 0.01\n",
    "BATCH_SIZE = 512\n",
    "BIAS = False\n",
    "N_TRIALS = 5\n",
    "\n",
    "FONTSIZE = 12\n",
    "FIGSIZE = (10, 6)\n",
    "\n",
    "ACT_KEY_TO_NAME = {'relu': 'ReLU',\n",
    "                   'gelu': 'GeLU',\n",
    "                   'elu': 'ELU',\n",
    "                   'tanh': 'tanh'}\n",
    "\n",
    "\n",
    "experiments_dir = os.path.join(ROOT, 'experiments')\n",
    "base_experiment = 'standard_fc_ip_mnist'"
   ]
  },
  {
   "cell_type": "markdown",
   "metadata": {},
   "source": [
    "## Process results"
   ]
  },
  {
   "cell_type": "code",
   "execution_count": 89,
   "metadata": {},
   "outputs": [],
   "source": [
    "results = dict()\n",
    "for activation in ACT_KEY_TO_NAME.keys():\n",
    "    results[activation] = get_trial_results([L], [WIDTH], N_TRIALS, experiments_dir, base_experiment, activation, \n",
    "                                            BASE_LR, BATCH_SIZE, BIAS)"
   ]
  },
  {
   "cell_type": "code",
   "execution_count": 91,
   "metadata": {},
   "outputs": [],
   "source": [
    "epoch_res = dict()\n",
    "step_res = dict()\n",
    "for activation in ACT_KEY_TO_NAME.keys():\n",
    "    epoch_res_, step_res_ = get_epoch_step_results_from_trials(results[activation], \n",
    "                                                               pop_keys=('lrs', 'all_outputs', 'all_losses'))\n",
    "    epoch_res[activation] = epoch_res_\n",
    "    step_res[activation] = step_res_"
   ]
  },
  {
   "cell_type": "markdown",
   "metadata": {},
   "source": [
    "## Plots"
   ]
  },
  {
   "cell_type": "code",
   "execution_count": 136,
   "metadata": {},
   "outputs": [
    {
     "data": {
      "image/png": "[encoded data removed]",
      "text/plain": [
       "<Figure size 720x432 with 1 Axes>"
      ]
     },
     "metadata": {},
     "output_type": "display_data"
    }
   ],
   "source": [
    "plt.figure(figsize=FIGSIZE)\n",
    "plt.ylim(0, 3)\n",
    "\n",
    "legends = [activation for activation in ACT_KEY_TO_NAME.keys()]\n",
    "ax = plt.gca()\n",
    "for activation in ACT_KEY_TO_NAME.keys():\n",
    "    plot_metric_vs_time_std(step_res[activation][L][WIDTH], ax=ax, metric='all_losses', metric_name='loss',\n",
    "                            time='step', mode='training', marker='.', label=ACT_KEY_TO_NAME[activation], \n",
    "                            loc='lower right', legend_title='Activation')\n",
    "\n",
    "ax.legend_.set_title('Activation')\n",
    "set_figure_fontsizes(fontsize=FONTSIZE)\n",
    "plt.show()"
   ]
  },
  {
   "cell_type": "code",
   "execution_count": 101,
   "metadata": {},
   "outputs": [
    {
     "data": {
      "image/png": "[encoded data removed]",
      "text/plain": [
       "<Figure size 720x432 with 1 Axes>"
      ]
     },
     "metadata": {},
     "output_type": "display_data"
    }
   ],
   "source": [
    "plt.figure(figsize=FIGSIZE)\n",
    "plt.ylim(-0.5, 0.5)\n",
    "for activation in ACT_KEY_TO_NAME.keys():\n",
    "    plot_metric_vs_time_std(step_res[activation][L][WIDTH], metric='all_outputs', metric_name='output',\n",
    "                            time='step', mode='training', marker='.', label=ACT_KEY_TO_NAME[activation])\n",
    "set_figure_fontsizes(fontsize=FONTSIZE)\n",
    "plt.show()"
   ]
  },
  {
   "cell_type": "markdown",
   "metadata": {},
   "source": [
    "## Test accuracies"
   ]
  },
  {
   "cell_type": "code",
   "execution_count": 115,
   "metadata": {},
   "outputs": [
    {
     "data": {
      "text/plain": [
       "{'relu': [0.09799999743700027,\n",
       "  0.09799999743700027,\n",
       "  0.09799999743700027,\n",
       "  0.09799999743700027,\n",
       "  0.09799999743700027],\n",
       " 'gelu': [0.09799999743700027,\n",
       "  0.09799999743700027,\n",
       "  0.09799999743700027,\n",
       "  0.09799999743700027,\n",
       "  0.09799999743700027],\n",
       " 'elu': [0.09799999743700027,\n",
       "  0.09799999743700027,\n",
       "  0.09799999743700027,\n",
       "  0.09799999743700027,\n",
       "  0.09799999743700027],\n",
       " 'tanh': [0.09799999743700027,\n",
       "  0.09799999743700027,\n",
       "  0.09799999743700027,\n",
       "  0.09799999743700027,\n",
       "  0.09799999743700027]}"
      ]
     },
     "execution_count": 115,
     "metadata": {},
     "output_type": "execute_result"
    }
   ],
   "source": [
    "test_accuracies = {activation: [results[activation][L][WIDTH][idx]['test'][0]['accuracy'] \n",
    "                                for idx in range(N_TRIALS)] \n",
    "                   for activation in ACT_KEY_TO_NAME.keys()}\n",
    "test_accuracies"
   ]
  },
  {
   "cell_type": "code",
   "execution_count": 117,
   "metadata": {},
   "outputs": [
    {
     "name": "stdout",
     "output_type": "stream",
     "text": [
      "relu 0.09799999743700027\n",
      "gelu 0.09799999743700027\n",
      "elu 0.09799999743700027\n",
      "tanh 0.09799999743700027\n"
     ]
    }
   ],
   "source": [
    "for activation in ACT_KEY_TO_NAME.keys():\n",
    "    print(activation, np.mean(test_accuracies[activation]))"
   ]
  },
  {
   "cell_type": "code",
   "execution_count": null,
   "metadata": {},
   "outputs": [],
   "source": []
  }
 ],
 "metadata": {
  "kernelspec": {
   "display_name": "Python 3",
   "language": "python",
   "name": "python3"
  },
  "language_info": {
   "codemirror_mode": {
    "name": "ipython",
    "version": 3
   },
   "file_extension": ".py",
   "mimetype": "text/x-python",
   "name": "python",
   "nbconvert_exporter": "python",
   "pygments_lexer": "ipython3",
   "version": "3.8.2"
  }
 },
 "nbformat": 4,
 "nbformat_minor": 4
}
