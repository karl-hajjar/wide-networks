{
 "cells": [
  {
   "cell_type": "code",
   "execution_count": 1,
   "metadata": {},
   "outputs": [],
   "source": [
    "%load_ext autoreload\n",
    "%autoreload 2"
   ]
  },
  {
   "cell_type": "code",
   "execution_count": 2,
   "metadata": {},
   "outputs": [],
   "source": [
    "#%matplotlib notebook\n",
    "%matplotlib inline"
   ]
  },
  {
   "cell_type": "code",
   "execution_count": 3,
   "metadata": {},
   "outputs": [],
   "source": [
    "import os\n",
    "cwd = os.getcwd()\n",
    "\n",
    "NOTEBOOK_DIR = os.path.dirname(cwd)\n",
    "ROOT = os.path.dirname(os.path.dirname(os.path.dirname(NOTEBOOK_DIR)))\n",
    "\n",
    "FIGURES_DIR = os.path.join(ROOT, 'figures/abc_parameterizations/training')"
   ]
  },
  {
   "cell_type": "code",
   "execution_count": 4,
   "metadata": {},
   "outputs": [],
   "source": [
    "import sys\n",
    "sys.path.append(ROOT)"
   ]
  },
  {
   "cell_type": "code",
   "execution_count": 5,
   "metadata": {},
   "outputs": [],
   "source": [
    "import torch\n",
    "import pickle\n",
    "import pandas as pd\n",
    "import matplotlib.pylab as pylab\n",
    "\n",
    "from utils.plot.abc_parameterizations.results import *"
   ]
  },
  {
   "cell_type": "markdown",
   "metadata": {},
   "source": [
    "## Set variables"
   ]
  },
  {
   "cell_type": "code",
   "execution_count": 6,
   "metadata": {},
   "outputs": [],
   "source": [
    "L = 6\n",
    "WIDTH = 1024\n",
    "BASE_LR = 0.01\n",
    "BATCH_SIZE = 512\n",
    "BIAS = False\n",
    "N_TRIALS = 5\n",
    "MODEL_NAME = 'fc_ipllr' # 'fc_ipllr', 'standard_fc_ip', 'fc_muP'\n",
    "DATASET = 'mnist'  # 'mnist', 'cifar10'\n",
    "\n",
    "FONTSIZE = 12\n",
    "FIGSIZE = (10, 6)\n",
    "\n",
    "ACT_KEY_TO_NAME = {'relu': 'ReLU',\n",
    "                   'gelu': 'GeLU',\n",
    "                   'elu': 'ELU',\n",
    "                   'tanh': 'tanh'}\n",
    "\n",
    "\n",
    "experiments_dir = os.path.join(ROOT, 'experiments')\n",
    "base_experiment = '{}_{}'.format(MODEL_NAME, DATASET)\n",
    "fig_dir = os.path.join(ROOT, FIGURES_DIR, DATASET)\n",
    "\n",
    "params = {'legend.fontsize': FONTSIZE,\n",
    "         'axes.labelsize': FONTSIZE,\n",
    "         'axes.titlesize': FONTSIZE,\n",
    "         'xtick.labelsize': FONTSIZE,\n",
    "         'ytick.labelsize': FONTSIZE}\n",
    "pylab.rcParams.update(params)"
   ]
  },
  {
   "cell_type": "markdown",
   "metadata": {},
   "source": [
    "## Process results"
   ]
  },
  {
   "cell_type": "code",
   "execution_count": 7,
   "metadata": {},
   "outputs": [],
   "source": [
    "results = dict()\n",
    "for activation in ACT_KEY_TO_NAME.keys():\n",
    "    results[activation] = get_trial_results([L], [WIDTH], N_TRIALS, experiments_dir, base_experiment, activation, \n",
    "                                            BASE_LR, BATCH_SIZE, BIAS)"
   ]
  },
  {
   "cell_type": "code",
   "execution_count": 8,
   "metadata": {},
   "outputs": [],
   "source": [
    "epoch_res = dict()\n",
    "step_res = dict()\n",
    "for activation in ACT_KEY_TO_NAME.keys():\n",
    "    epoch_res_, step_res_ = get_epoch_step_results_from_trials(results[activation], \n",
    "                                                               pop_keys=('lrs', 'all_outputs', 'all_losses'))\n",
    "    epoch_res[activation] = epoch_res_\n",
    "    step_res[activation] = step_res_"
   ]
  },
  {
   "cell_type": "code",
   "execution_count": 9,
   "metadata": {},
   "outputs": [],
   "source": [
    "# generate dataframe for easy plotting with seaborn lineplot\n",
    "results_df = pd.DataFrame(columns=['step', 'mean absolute output', 'loss', 'activation'])\n",
    "key_to_metric_name_results = {'all_outputs': 'mean absolute output', \n",
    "                              'all_losses': 'loss'}\n",
    "\n",
    "idx_start_trial = 0\n",
    "for activation in step_res.keys():\n",
    "    for trial in step_res[activation][L][WIDTH]:\n",
    "        for i, metric_value in enumerate(trial['all_outputs']):\n",
    "            results_df.loc[idx_start_trial + i, ['step', 'mean absolute output', 'loss', 'activation']] = \\\n",
    "                [i, trial['all_outputs'][i].item(), trial['all_losses'][i].item(), ACT_KEY_TO_NAME[activation]]\n",
    "        idx_start_trial += len(trial['all_outputs'])\n",
    "\n",
    "results_df.loss = results_df.loss.astype(float)\n",
    "results_df['mean absolute output'] = results_df['mean absolute output'].astype(float)"
   ]
  },
  {
   "cell_type": "markdown",
   "metadata": {},
   "source": [
    "## Plots"
   ]
  },
  {
   "cell_type": "code",
   "execution_count": 10,
   "metadata": {},
   "outputs": [
    {
     "data": {
      "image/png": "[encoded data removed]",
      "text/plain": [
       "<Figure size 720x432 with 1 Axes>"
      ]
     },
     "metadata": {},
     "output_type": "display_data"
    }
   ],
   "source": [
    "plt.figure(figsize=FIGSIZE)\n",
    "plt.ylim(0, 3)\n",
    "\n",
    "g = sns.lineplot(x=\"step\", y=\"loss\", hue=\"activation\", data=results_df)\n",
    "\n",
    "fig_path = os.path.join(fig_dir, '{}_loss.png'.format(MODEL_NAME))\n",
    "plt.savefig(fig_path, bbox_inches='tight', pad_inches=0)"
   ]
  },
  {
   "cell_type": "code",
   "execution_count": 11,
   "metadata": {},
   "outputs": [
    {
     "data": {
      "image/png": "[encoded data removed]",
      "text/plain": [
       "<Figure size 720x432 with 1 Axes>"
      ]
     },
     "metadata": {},
     "output_type": "display_data"
    }
   ],
   "source": [
    "plt.figure(figsize=FIGSIZE)\n",
    "plt.ylim(-1, 4)\n",
    "\n",
    "g = sns.lineplot(x=\"step\", y=\"mean absolute output\", hue=\"activation\", data=results_df)\n",
    "\n",
    "fig_path = os.path.join(fig_dir, '{}_output.png'.format(MODEL_NAME))\n",
    "plt.savefig(fig_path, bbox_inches='tight', pad_inches=0)"
   ]
  },
  {
   "cell_type": "markdown",
   "metadata": {},
   "source": [
    "## Test accuracies"
   ]
  },
  {
   "cell_type": "code",
   "execution_count": 12,
   "metadata": {},
   "outputs": [
    {
     "data": {
      "text/plain": [
       "{'relu': [0.09799999743700027,\n",
       "  0.09799999743700027,\n",
       "  0.09799999743700027,\n",
       "  0.09799999743700027,\n",
       "  0.09799999743700027],\n",
       " 'gelu': [0.09799999743700027,\n",
       "  0.09799999743700027,\n",
       "  0.09799999743700027,\n",
       "  0.09799999743700027,\n",
       "  0.09799999743700027],\n",
       " 'elu': [0.09799999743700027,\n",
       "  0.09799999743700027,\n",
       "  0.09799999743700027,\n",
       "  0.09799999743700027,\n",
       "  0.09799999743700027],\n",
       " 'tanh': [0.09799999743700027,\n",
       "  0.09799999743700027,\n",
       "  0.09799999743700027,\n",
       "  0.09799999743700027,\n",
       "  0.09799999743700027]}"
      ]
     },
     "execution_count": 12,
     "metadata": {},
     "output_type": "execute_result"
    }
   ],
   "source": [
    "test_accuracies = {activation: [results[activation][L][WIDTH][idx]['test'][0]['accuracy'] \n",
    "                                for idx in range(N_TRIALS)] \n",
    "                   for activation in ACT_KEY_TO_NAME.keys()}\n",
    "test_accuracies"
   ]
  },
  {
   "cell_type": "code",
   "execution_count": 13,
   "metadata": {},
   "outputs": [
    {
     "name": "stdout",
     "output_type": "stream",
     "text": [
      "relu 0.09799999743700027\n",
      "gelu 0.09799999743700027\n",
      "elu 0.09799999743700027\n",
      "tanh 0.09799999743700027\n"
     ]
    }
   ],
   "source": [
    "for activation in ACT_KEY_TO_NAME.keys():\n",
    "    print(activation, np.mean(test_accuracies[activation]))"
   ]
  },
  {
   "cell_type": "code",
   "execution_count": null,
   "metadata": {},
   "outputs": [],
   "source": []
  }
 ],
 "metadata": {
  "kernelspec": {
   "display_name": "Python 3",
   "language": "python",
   "name": "python3"
  },
  "language_info": {
   "codemirror_mode": {
    "name": "ipython",
    "version": 3
   },
   "file_extension": ".py",
   "mimetype": "text/x-python",
   "name": "python",
   "nbconvert_exporter": "python",
   "pygments_lexer": "ipython3",
   "version": "3.8.2"
  }
 },
 "nbformat": 4,
 "nbformat_minor": 4
}
