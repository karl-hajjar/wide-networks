{
 "cells": [
  {
   "cell_type": "code",
   "execution_count": 1,
   "metadata": {},
   "outputs": [],
   "source": [
    "%load_ext autoreload\n",
    "%autoreload 2"
   ]
  },
  {
   "cell_type": "code",
   "execution_count": 2,
   "metadata": {},
   "outputs": [],
   "source": [
    "import os\n",
    "cwd = os.getcwd()\n",
    "\n",
    "NOTEBOOK_DIR = os.path.dirname(cwd)\n",
    "ROOT = os.path.dirname(os.path.dirname(os.path.dirname(NOTEBOOK_DIR)))\n",
    "\n",
    "FIGURES_DIR = os.path.join(ROOT, 'figures/abc_parameterizations/debug_ipllr_renorm')\n",
    "CONFIG_PATH = os.path.join(ROOT, 'pytorch/configs/abc_parameterizations', 'fc_ipllr_mnist.yaml')"
   ]
  },
  {
   "cell_type": "code",
   "execution_count": 3,
   "metadata": {},
   "outputs": [],
   "source": [
    "import sys\n",
    "sys.path.append(ROOT)"
   ]
  },
  {
   "cell_type": "code",
   "execution_count": 4,
   "metadata": {},
   "outputs": [],
   "source": [
    "import os\n",
    "from copy import deepcopy\n",
    "import torch\n",
    "import math\n",
    "import numpy as np\n",
    "import pandas as pd\n",
    "from torch.utils.data import Dataset, Subset, DataLoader\n",
    "import torch.nn.functional as F\n",
    "\n",
    "from utils.tools import read_yaml, set_random_seeds\n",
    "from pytorch.configs.base import BaseConfig\n",
    "from pytorch.configs.model import ModelConfig\n",
    "from pytorch.models.abc_params.fully_connected.ipllr import FcIPLLR\n",
    "from pytorch.models.abc_params.fully_connected.muP import FCmuP\n",
    "from pytorch.models.abc_params.fully_connected.ntk import FCNTK\n",
    "from pytorch.models.abc_params.fully_connected.standard_fc_ip import StandardFCIP\n",
    "from utils.data.mnist import load_data\n",
    "from utils.abc_params.debug_ipllr import *\n",
    "from utils.plot.abc_parameterizations.debug_ipllr import *"
   ]
  },
  {
   "cell_type": "markdown",
   "metadata": {},
   "source": [
    "### Load basic configuration and define variables "
   ]
  },
  {
   "cell_type": "code",
   "execution_count": 5,
   "metadata": {},
   "outputs": [],
   "source": [
    "N_TRIALS = 5\n",
    "SEED = 30\n",
    "L = 6\n",
    "width = 1024\n",
    "n_warmup_steps = 1\n",
    "batch_size = 512\n",
    "base_lr = 0.01\n",
    "n_steps = 100\n",
    "renorm_first = False\n",
    "scale_first_lr = False\n",
    "\n",
    "set_random_seeds(SEED)  # set random seed for reproducibility\n",
    "config_dict = read_yaml(CONFIG_PATH)"
   ]
  },
  {
   "cell_type": "code",
   "execution_count": 6,
   "metadata": {},
   "outputs": [],
   "source": [
    "config_dict = read_yaml(CONFIG_PATH)\n",
    "\n",
    "input_size = config_dict['architecture']['input_size']\n",
    "\n",
    "config_dict['architecture']['width'] = width\n",
    "config_dict['architecture']['n_layers'] = L + 1\n",
    "config_dict['optimizer']['params']['lr'] = base_lr\n",
    "config_dict['scheduler'] = {'name': 'warmup_switch',\n",
    "                            'params': {'n_warmup_steps': n_warmup_steps,\n",
    "                                       'calibrate_base_lr': True,\n",
    "                                       'default_calibration': False}}\n",
    "        \n",
    "base_model_config = ModelConfig(config_dict)"
   ]
  },
  {
   "cell_type": "markdown",
   "metadata": {},
   "source": [
    "### Load data & define models"
   ]
  },
  {
   "cell_type": "code",
   "execution_count": 7,
   "metadata": {},
   "outputs": [],
   "source": [
    "training_dataset, test_dataset = load_data(download=False, flatten=True)\n",
    "train_data_loader = DataLoader(training_dataset, shuffle=True, batch_size=batch_size)\n",
    "test_batches = list(DataLoader(test_dataset, shuffle=False, batch_size=batch_size))\n",
    "batches = list(train_data_loader)\n",
    "eval_batch = test_batches[0]"
   ]
  },
  {
   "cell_type": "code",
   "execution_count": 8,
   "metadata": {},
   "outputs": [
    {
     "name": "stdout",
     "output_type": "stream",
     "text": [
      "initial base lr : [7.8500000000000005, 50.600318908691406, 70.35978698730469, 68.40836334228516, 74.03289031982422, 102.55811309814453, 309.838134765625]\n",
      "initial base lr : [7.8500000000000005, 51.106361389160156, 68.59902954101562, 72.93223571777344, 78.6222915649414, 90.54884338378906, 290.7969665527344]\n",
      "initial base lr : [7.8500000000000005, 49.130645751953125, 60.061195373535156, 65.48074340820312, 75.3825912475586, 83.77481842041016, 227.68844604492188]\n",
      "initial base lr : [7.8500000000000005, 55.35302734375, 73.82594299316406, 76.13689422607422, 83.21652221679688, 115.44131469726562, 353.1343688964844]\n",
      "initial base lr : [7.8500000000000005, 53.060760498046875, 73.16078186035156, 69.70211029052734, 77.32321166992188, 93.46554565429688, 264.8482666015625]\n",
      "initial base lr : [7.8500000000000005, 46.9710578918457, 72.5624008178711, 70.770263671875, 75.82337951660156, 87.43965148925781, 284.8216247558594]\n",
      "initial base lr : [7.8500000000000005, 48.167484283447266, 61.27650451660156, 63.86731719970703, 63.0369758605957, 69.0454330444336, 193.15895080566406]\n",
      "initial base lr : [7.8500000000000005, 48.269203186035156, 70.1176528930664, 61.783241271972656, 69.11251068115234, 74.56757354736328, 216.11647033691406]\n",
      "initial base lr : [7.8500000000000005, 49.773563385009766, 67.27190399169922, 63.459842681884766, 72.14344787597656, 95.6060562133789, 236.166748046875]\n",
      "initial base lr : [7.8500000000000005, 56.059906005859375, 73.42023468017578, 75.49235534667969, 77.92539978027344, 99.7567367553711, 293.2481994628906]\n",
      "initial base lr : [7.8500000000000005, 59.236351013183594, 75.92244720458984, 79.1380844116211, 85.89500427246094, 100.42469024658203, 243.5261993408203]\n",
      "initial base lr : [7.8500000000000005, 51.40434646606445, 67.77117919921875, 72.47962188720703, 74.60772705078125, 84.3292465209961, 221.82421875]\n",
      "initial base lr : [7.8500000000000005, 49.293121337890625, 72.55017852783203, 71.75788879394531, 81.15477752685547, 104.29595184326172, 257.0586242675781]\n",
      "initial base lr : [7.8500000000000005, 50.559757232666016, 66.86316680908203, 65.91809844970703, 67.9489974975586, 81.19949340820312, 270.13885498046875]\n",
      "initial base lr : [7.8500000000000005, 47.2098388671875, 60.753047943115234, 59.93907165527344, 67.5506591796875, 78.48561096191406, 238.7420654296875]\n"
     ]
    }
   ],
   "source": [
    "config_dict['scheduler']['params']['calibrate_base_lr'] = False\n",
    "config = ModelConfig(config_dict)\n",
    "\n",
    "ipllrs = [FcIPLLR(config) for _ in range(N_TRIALS)]\n",
    "#ipllrs_renorm = [FcIPLLR(config) for _ in range(N_TRIALS)]\n",
    "#ipllrs_renorm_scale_lr = [FcIPLLR(config) for _ in range(N_TRIALS)]\n",
    "\n",
    "config_dict['scheduler']['params']['calibrate_base_lr'] = True\n",
    "config = ModelConfig(config_dict)\n",
    "ipllrs_calib = [FcIPLLR(config, lr_calibration_batches=batches) for _ in range(N_TRIALS)]\n",
    "ipllrs_calib_renorm = [FcIPLLR(config, lr_calibration_batches=batches) for _ in range(N_TRIALS)]\n",
    "ipllrs_calib_renorm_scale_lr = [FcIPLLR(config, lr_calibration_batches=batches) for _ in range(N_TRIALS)]"
   ]
  },
  {
   "cell_type": "code",
   "execution_count": 9,
   "metadata": {},
   "outputs": [],
   "source": [
    "for i in range(N_TRIALS):\n",
    "    # copy params\n",
    "    #ipllrs_renorm[i].copy_initial_params_from_model(ipllrs[i])\n",
    "    #ipllrs_renorm_scale_lr[i].copy_initial_params_from_model(ipllrs[i])\n",
    "    \n",
    "    ipllrs_calib[i].copy_initial_params_from_model(ipllrs[i])\n",
    "    ipllrs_calib_renorm[i].copy_initial_params_from_model(ipllrs[i])\n",
    "    ipllrs_calib_renorm_scale_lr[i].copy_initial_params_from_model(ipllrs[i])\n",
    "    \n",
    "    # re-initialize\n",
    "    #ipllrs_renorm[i].initialize_params()\n",
    "    #ipllrs_renorm_scale_lr[i].initialize_params()\n",
    "    \n",
    "    ipllrs_calib[i].initialize_params()\n",
    "    ipllrs_calib_renorm[i].initialize_params()\n",
    "    ipllrs_calib_renorm_scale_lr[i].initialize_params()"
   ]
  },
  {
   "cell_type": "code",
   "execution_count": 10,
   "metadata": {},
   "outputs": [
    {
     "name": "stdout",
     "output_type": "stream",
     "text": [
      "initial base lr : [0.01, 0.06005667522549629, 1.2277015447616577, 2.1790976524353027, 2.4939730167388916, 2.87255859375, 8.645337104797363]\n",
      "initial base lr : [0.01, 0.05959025025367737, 1.2829102277755737, 2.54594087600708, 2.795259714126587, 3.3299622535705566, 10.341224670410156]\n",
      "initial base lr : [0.01, 0.05906084179878235, 1.2531068325042725, 2.452989339828491, 2.6011409759521484, 3.096604824066162, 8.844331741333008]\n",
      "initial base lr : [0.01, 0.06040874868631363, 1.29351007938385, 2.221619129180908, 2.727776288986206, 3.3855526447296143, 9.61392879486084]\n",
      "initial base lr : [0.01, 0.06201217323541641, 1.1933470964431763, 2.331674814224243, 2.296248435974121, 2.62015438079834, 7.345645904541016]\n",
      "initial base lr : [7.8500000000000005, 46.98689651489258, 62.042476654052734, 61.632041931152344, 69.83226013183594, 80.47383880615234, 242.2163543701172]\n",
      "initial base lr : [7.8500000000000005, 46.830177307128906, 68.40361785888672, 72.4375, 78.34947967529297, 93.29377746582031, 289.72467041015625]\n",
      "initial base lr : [7.8500000000000005, 46.61598587036133, 68.0101089477539, 69.78719329833984, 72.83218383789062, 86.75372314453125, 247.78517150878906]\n",
      "initial base lr : [7.8500000000000005, 47.48222732543945, 68.43250274658203, 63.24458694458008, 76.41073608398438, 94.85041809082031, 269.35687255859375]\n",
      "initial base lr : [7.8500000000000005, 48.15700912475586, 62.01530075073242, 66.63243103027344, 64.38115692138672, 73.40943908691406, 205.8101348876953]\n",
      "initial base lr : [7.8500000000000005, 46.98689651489258, 62.042476654052734, 61.632041931152344, 69.83226013183594, 80.47383880615234, 242.2163543701172]\n",
      "initial base lr : [7.8500000000000005, 46.830177307128906, 68.40361785888672, 72.4375, 78.34947967529297, 93.29377746582031, 289.72467041015625]\n",
      "initial base lr : [7.8500000000000005, 46.61598587036133, 68.0101089477539, 69.78719329833984, 72.83218383789062, 86.75372314453125, 247.78517150878906]\n",
      "initial base lr : [7.8500000000000005, 47.48222732543945, 68.43250274658203, 63.24458694458008, 76.41073608398438, 94.85041809082031, 269.35687255859375]\n",
      "initial base lr : [7.8500000000000005, 48.15700912475586, 62.01530075073242, 66.63243103027344, 64.38115692138672, 73.40943908691406, 205.8101348876953]\n"
     ]
    }
   ],
   "source": [
    "# Make sure calibration takes into account normalization\n",
    "\n",
    "for ipllr in ipllrs_calib:    \n",
    "    initial_base_lrs = ipllr.scheduler.calibrate_base_lr(ipllr, batches=batches, normalize_first=False)\n",
    "    ipllr.scheduler._set_param_group_lrs(initial_base_lrs)\n",
    "    \n",
    "for ipllr in ipllrs_calib_renorm:        \n",
    "    initial_base_lrs = ipllr.scheduler.calibrate_base_lr(ipllr, batches=batches, normalize_first=True)\n",
    "    ipllr.scheduler._set_param_group_lrs(initial_base_lrs)\n",
    "    \n",
    "for ipllr in ipllrs_calib_renorm_scale_lr:            \n",
    "    initial_base_lrs = ipllr.scheduler.calibrate_base_lr(ipllr, batches=batches, normalize_first=True)\n",
    "    ipllr.scheduler._set_param_group_lrs(initial_base_lrs)"
   ]
  },
  {
   "cell_type": "code",
   "execution_count": 11,
   "metadata": {},
   "outputs": [],
   "source": [
    "# scale lr of first layer if needed\n",
    "\n",
    "#for ipllr in ipllrs_renorm_scale_lr:\n",
    "#    for i, param_group in enumerate(ipllr.optimizer.param_groups):\n",
    "#        if i == 0:\n",
    "#            param_group['lr'] = param_group['lr'] * (ipllr.d + 1)\n",
    "#    ipllr.scheduler.warm_lrs[0] = ipllr.scheduler.warm_lrs[0] * (ipllr.d + 1)\n",
    "    \n",
    "for ipllr in ipllrs_calib_renorm_scale_lr:\n",
    "    ipllr.scheduler.warm_lrs[0] = ipllr.scheduler.warm_lrs[0] * (ipllr.d + 1)"
   ]
  },
  {
   "cell_type": "code",
   "execution_count": null,
   "metadata": {},
   "outputs": [],
   "source": [
    "results = dict()\n",
    "\n",
    "# without calibration\n",
    "#results['ipllr'] = [collect_training_losses(ipllrs[i], batches, n_steps, normalize_first=False) \n",
    "#                    for i in range(N_TRIALS)]\n",
    "\n",
    "#results['ipllr_renorm'] = [collect_training_losses(ipllrs_renorm[i], batches, n_steps, normalize_first=True)\n",
    "#                           for i in range(N_TRIALS)]\n",
    "\n",
    "#results['ipllr_renorm_scale_lr'] = [collect_training_losses(ipllrs_renorm_scale_lr[i], batches, n_steps, \n",
    "#                                                            normalize_first=True) \n",
    "#                                    for i in range(N_TRIALS)]\n",
    "\n",
    "# with calibration\n",
    "results['ipllr_calib'] = [collect_training_losses(ipllrs_calib[i], batches, n_steps, normalize_first=False)\n",
    "                                 for i in range(N_TRIALS)]\n",
    "\n",
    "results['ipllr_calib_renorm'] = [collect_training_losses(ipllrs_calib_renorm[i], batches, n_steps, \n",
    "                                                         normalize_first=True)\n",
    "                                 for i in range(N_TRIALS)]\n",
    "\n",
    "results['ipllr_calib_renorm_scale_lr'] = \\\n",
    "    [collect_training_losses(ipllrs_calib_renorm_scale_lr[i], batches, n_steps, normalize_first=True) \n",
    "     for i in range(N_TRIALS)]"
   ]
  },
  {
   "cell_type": "markdown",
   "metadata": {},
   "source": [
    "# Training"
   ]
  },
  {
   "cell_type": "code",
   "execution_count": null,
   "metadata": {},
   "outputs": [],
   "source": [
    "mode = 'training'"
   ]
  },
  {
   "cell_type": "code",
   "execution_count": null,
   "metadata": {},
   "outputs": [],
   "source": [
    "losses = dict()\n",
    "for key, res in results.items():\n",
    "    losses[key] = [r[0] for r in res]\n",
    "    \n",
    "chis = dict()\n",
    "for key, res in results.items():\n",
    "    chis[key] = [r[1] for r in res]"
   ]
  },
  {
   "cell_type": "markdown",
   "metadata": {},
   "source": [
    "## Losses and derivatives"
   ]
  },
  {
   "cell_type": "code",
   "execution_count": null,
   "metadata": {},
   "outputs": [],
   "source": [
    "key = 'loss'\n",
    "plt.figure(figsize=(12, 8))\n",
    "plot_losses_models(losses, key=key, L=L, width=width, lr=base_lr, batch_size=batch_size, mode=mode, \n",
    "                   normalize_first=renorm_first, marker=None, name='IPLLR')\n",
    "plt.savefig(\n",
    "    os.path.join(FIGURES_DIR, 'IPLLRs_1_{}_{}_L={}_m={}_lr={}_bs={}.png'.\\\n",
    "                 format(mode, key, L, width, base_lr, batch_size, renorm_first, scale_first_lr)))\n",
    "plt.show()"
   ]
  },
  {
   "cell_type": "code",
   "execution_count": null,
   "metadata": {},
   "outputs": [],
   "source": [
    "key = 'chi'\n",
    "plt.figure(figsize=(12, 8))\n",
    "plot_losses_models(chis, key=key, L=L, width=width, lr=base_lr, batch_size=batch_size, mode=mode, marker=None,\n",
    "                   name='IPLLR')\n",
    "plt.savefig(os.path.join(FIGURES_DIR, 'IPLLRs_1_{}_{}_L={}_m={}_lr={}_bs={}.png'.\\\n",
    "                         format(mode, key, L, width, base_lr, batch_size)))\n",
    "plt.show()"
   ]
  }
 ],
 "metadata": {
  "kernelspec": {
   "display_name": "Python 3",
   "language": "python",
   "name": "python3"
  },
  "language_info": {
   "codemirror_mode": {
    "name": "ipython",
    "version": 3
   },
   "file_extension": ".py",
   "mimetype": "text/x-python",
   "name": "python",
   "nbconvert_exporter": "python",
   "pygments_lexer": "ipython3",
   "version": "3.8.2"
  }
 },
 "nbformat": 4,
 "nbformat_minor": 4
}
