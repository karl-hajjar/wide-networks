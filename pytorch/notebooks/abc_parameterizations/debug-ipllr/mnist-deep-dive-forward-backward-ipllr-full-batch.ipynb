{
 "cells": [
  {
   "cell_type": "code",
   "execution_count": 1,
   "metadata": {},
   "outputs": [],
   "source": [
    "%load_ext autoreload\n",
    "%autoreload 2"
   ]
  },
  {
   "cell_type": "code",
   "execution_count": 2,
   "metadata": {},
   "outputs": [],
   "source": [
    "import os\n",
    "cwd = os.getcwd()\n",
    "\n",
    "NOTEBOOK_DIR = os.path.dirname(cwd)\n",
    "ROOT = os.path.dirname(os.path.dirname(os.path.dirname(NOTEBOOK_DIR)))\n",
    "\n",
    "FIGURES_DIR = os.path.join(ROOT, 'figures/abc_parameterizations/initialization')\n",
    "CONFIG_PATH = os.path.join(ROOT, 'pytorch/configs/abc_parameterizations', 'fc_ipllr_mnist.yaml')"
   ]
  },
  {
   "cell_type": "code",
   "execution_count": 3,
   "metadata": {},
   "outputs": [],
   "source": [
    "import sys\n",
    "sys.path.append(ROOT)"
   ]
  },
  {
   "cell_type": "code",
   "execution_count": 4,
   "metadata": {},
   "outputs": [],
   "source": [
    "import os\n",
    "from copy import deepcopy\n",
    "import torch\n",
    "import math\n",
    "import numpy as np\n",
    "import pandas as pd\n",
    "from torch.utils.data import Dataset, Subset, DataLoader\n",
    "import torch.nn.functional as F\n",
    "\n",
    "from utils.tools import read_yaml, set_random_seeds\n",
    "from pytorch.configs.base import BaseConfig\n",
    "from pytorch.configs.model import ModelConfig\n",
    "from pytorch.models.abc_params.fully_connected.ipllr import FcIPLLR\n",
    "from pytorch.models.abc_params.fully_connected.muP import FCmuP\n",
    "from pytorch.models.abc_params.fully_connected.ntk import FCNTK\n",
    "from pytorch.models.abc_params.fully_connected.standard_fc_ip import StandardFCIP\n",
    "from utils.data.mnist import load_data\n",
    "from utils.abc_params.debug_ipllr import *"
   ]
  },
  {
   "cell_type": "markdown",
   "metadata": {},
   "source": [
    "### Load basic configuration and define variables "
   ]
  },
  {
   "cell_type": "code",
   "execution_count": 5,
   "metadata": {},
   "outputs": [],
   "source": [
    "N_TRIALS = 1\n",
    "SEED = 30\n",
    "L = 6\n",
    "width = 1024\n",
    "n_warmup_steps = 1\n",
    "batch_size = 512\n",
    "base_lr = 0.1\n",
    "n_steps = 50\n",
    "\n",
    "set_random_seeds(SEED)  # set random seed for reproducibility\n",
    "config_dict = read_yaml(CONFIG_PATH)"
   ]
  },
  {
   "cell_type": "code",
   "execution_count": 6,
   "metadata": {},
   "outputs": [],
   "source": [
    "config_dict = read_yaml(CONFIG_PATH)\n",
    "\n",
    "input_size = config_dict['architecture']['input_size']\n",
    "\n",
    "config_dict['architecture']['width'] = width\n",
    "config_dict['architecture']['n_layers'] = L + 1\n",
    "config_dict['optimizer']['params']['lr'] = base_lr\n",
    "config_dict['scheduler'] = {'name': 'warmup_switch',\n",
    "                            'params': {'n_warmup_steps': n_warmup_steps,\n",
    "                                       'calibrate_base_lr': True,\n",
    "                                       'default_calibration': False}}\n",
    "        \n",
    "base_model_config = ModelConfig(config_dict)"
   ]
  },
  {
   "cell_type": "markdown",
   "metadata": {},
   "source": [
    "### Load data & define model"
   ]
  },
  {
   "cell_type": "code",
   "execution_count": 7,
   "metadata": {},
   "outputs": [],
   "source": [
    "training_dataset, test_dataset = load_data(download=False, flatten=True)\n",
    "train_data_loader = DataLoader(training_dataset, shuffle=True, batch_size=batch_size)\n",
    "test_batches = list(DataLoader(test_dataset, shuffle=False, batch_size=batch_size))\n",
    "batches = list(train_data_loader)\n",
    "eval_batch = test_batches[0]"
   ]
  },
  {
   "cell_type": "code",
   "execution_count": 8,
   "metadata": {},
   "outputs": [],
   "source": [
    "### Train on FULL batch for first step\n",
    "full_x = torch.cat([a for a,_ in batches], dim=0)\n",
    "full_y = torch.cat([b for _,b in batches], dim=0)\n",
    "batches[0] = (full_x, full_y)"
   ]
  },
  {
   "cell_type": "markdown",
   "metadata": {},
   "source": [
    "### Define model"
   ]
  },
  {
   "cell_type": "code",
   "execution_count": 9,
   "metadata": {},
   "outputs": [
    {
     "name": "stdout",
     "output_type": "stream",
     "text": [
      "initial base lr : [78.5, 45.31412124633789, 73.59468078613281, 78.43993377685547, 87.94955444335938, 110.81439208984375, 41.807186126708984]\n"
     ]
    }
   ],
   "source": [
    "ipllr = FcIPLLR(base_model_config, n_warmup_steps=12, lr_calibration_batches=batches)"
   ]
  },
  {
   "cell_type": "code",
   "execution_count": 10,
   "metadata": {},
   "outputs": [],
   "source": [
    "ipllr.scheduler.warm_lrs[0] = ipllr.scheduler.warm_lrs[0] * (ipllr.d + 1)"
   ]
  },
  {
   "cell_type": "markdown",
   "metadata": {},
   "source": [
    "### Save initial model : t=0"
   ]
  },
  {
   "cell_type": "code",
   "execution_count": 11,
   "metadata": {},
   "outputs": [],
   "source": [
    "ipllr_0 = deepcopy(ipllr)"
   ]
  },
  {
   "cell_type": "markdown",
   "metadata": {},
   "source": [
    "### Train model one step : t=1"
   ]
  },
  {
   "cell_type": "code",
   "execution_count": 12,
   "metadata": {},
   "outputs": [
    {
     "name": "stdout",
     "output_type": "stream",
     "text": [
      "input abs mean in training:  0.695576548576355\n",
      "loss derivatives for model: tensor([[-0.9000,  0.1000,  0.1000,  ...,  0.1000,  0.1000,  0.1000],\n",
      "        [ 0.1000, -0.9000,  0.1000,  ...,  0.1000,  0.1000,  0.1000],\n",
      "        [ 0.1000,  0.1000,  0.1000,  ...,  0.1000,  0.1000, -0.9000],\n",
      "        ...,\n",
      "        [ 0.1000,  0.1000,  0.1000,  ...,  0.1000,  0.1000,  0.1000],\n",
      "        [ 0.1000, -0.9000,  0.1000,  ...,  0.1000,  0.1000,  0.1000],\n",
      "        [-0.9000,  0.1000,  0.1000,  ...,  0.1000,  0.1000,  0.1000]])\n",
      "average training loss for model1 : 2.302889108657837\n",
      "\n"
     ]
    }
   ],
   "source": [
    "x, y = batches[0]\n",
    "train_model_one_step(ipllr, x, y, normalize_first=True)\n",
    "ipllr_1 = deepcopy(ipllr)"
   ]
  },
  {
   "cell_type": "markdown",
   "metadata": {},
   "source": [
    "### Train model for a second step : t=2"
   ]
  },
  {
   "cell_type": "code",
   "execution_count": 13,
   "metadata": {},
   "outputs": [
    {
     "name": "stdout",
     "output_type": "stream",
     "text": [
      "input abs mean in training:  0.6921874284744263\n",
      "loss derivatives for model: tensor([[ 0.1366,  0.0793,  0.1140,  ...,  0.0946, -0.8923,  0.0951],\n",
      "        [ 0.1761,  0.0632,  0.1252,  ...,  0.0882,  0.1126,  0.0891],\n",
      "        [ 0.1460,  0.0750,  0.1170,  ...,  0.0931,  0.1091,  0.0938],\n",
      "        ...,\n",
      "        [ 0.1508,  0.0729,  0.1184,  ...,  0.0923,  0.1098,  0.0930],\n",
      "        [ 0.1479, -0.9258,  0.1175,  ...,  0.0928,  0.1094,  0.0935],\n",
      "        [ 0.1711,  0.0650,  0.1240,  ...,  0.0890, -0.8879,  0.0899]])\n",
      "average training loss for model1 : 2.2885348796844482\n",
      "\n"
     ]
    }
   ],
   "source": [
    "x, y = batches[1]\n",
    "train_model_one_step(ipllr, x, y, normalize_first=True)\n",
    "ipllr_2 = deepcopy(ipllr)"
   ]
  },
  {
   "cell_type": "code",
   "execution_count": 14,
   "metadata": {},
   "outputs": [
    {
     "name": "stdout",
     "output_type": "stream",
     "text": [
      "\n"
     ]
    }
   ],
   "source": [
    "ipllr.eval()\n",
    "ipllr_0.eval()\n",
    "ipllr_1.eval()\n",
    "ipllr_2.eval()\n",
    "print()"
   ]
  },
  {
   "cell_type": "code",
   "execution_count": 15,
   "metadata": {},
   "outputs": [],
   "source": [
    "layer_scales = ipllr.layer_scales\n",
    "intermediate_layer_keys = [\"layer_{:,}_intermediate\".format(l) for l in range(2, L + 1)]"
   ]
  },
  {
   "cell_type": "markdown",
   "metadata": {},
   "source": [
    "### Define W0 and b0"
   ]
  },
  {
   "cell_type": "code",
   "execution_count": 16,
   "metadata": {},
   "outputs": [],
   "source": [
    "with torch.no_grad():\n",
    "    W0 = {1: layer_scales[0] * ipllr_0.input_layer.weight.data.detach() / math.sqrt(ipllr_0.d + 1)}\n",
    "    for i, l in enumerate(range(2, L + 1)):\n",
    "        layer = getattr(ipllr_0.intermediate_layers, intermediate_layer_keys[i])\n",
    "        W0[l] = layer_scales[l-1] * layer.weight.data.detach()\n",
    "\n",
    "    W0[L+1] = layer_scales[L] * ipllr_0.output_layer.weight.data.detach()"
   ]
  },
  {
   "cell_type": "code",
   "execution_count": 17,
   "metadata": {},
   "outputs": [],
   "source": [
    "with torch.no_grad():\n",
    "    b0 = layer_scales[0] * ipllr_0.input_layer.bias.data.detach() / math.sqrt(ipllr_0.d + 1)"
   ]
  },
  {
   "cell_type": "markdown",
   "metadata": {},
   "source": [
    "### Define Delta_W_1 and Delta_b_1"
   ]
  },
  {
   "cell_type": "code",
   "execution_count": 18,
   "metadata": {},
   "outputs": [],
   "source": [
    "with torch.no_grad():\n",
    "    Delta_W_1 = {1: layer_scales[0] * (ipllr_1.input_layer.weight.data.detach() -\n",
    "                                       ipllr_0.input_layer.weight.data.detach()) / math.sqrt(ipllr_1.d + 1)}\n",
    "    for i, l in enumerate(range(2, L + 1)):\n",
    "        layer_1 = getattr(ipllr_1.intermediate_layers, intermediate_layer_keys[i])\n",
    "        layer_0 = getattr(ipllr_0.intermediate_layers, intermediate_layer_keys[i])\n",
    "        Delta_W_1[l] = layer_scales[l-1] * (layer_1.weight.data.detach() -\n",
    "                                            layer_0.weight.data.detach())\n",
    "\n",
    "    Delta_W_1[L+1] = layer_scales[L] * (ipllr_1.output_layer.weight.data.detach() -\n",
    "                                        ipllr_0.output_layer.weight.data.detach())"
   ]
  },
  {
   "cell_type": "code",
   "execution_count": 19,
   "metadata": {},
   "outputs": [],
   "source": [
    "with torch.no_grad():\n",
    "    Delta_b_1 = layer_scales[0] * (ipllr_1.input_layer.bias.data.detach() -\n",
    "                                   ipllr_0.input_layer.bias.data.detach()) / math.sqrt(ipllr_1.d + 1)"
   ]
  },
  {
   "cell_type": "markdown",
   "metadata": {},
   "source": [
    "### Define Delta_W_2"
   ]
  },
  {
   "cell_type": "code",
   "execution_count": 20,
   "metadata": {},
   "outputs": [],
   "source": [
    "with torch.no_grad():\n",
    "    Delta_W_2 = {1: layer_scales[0] * (ipllr_2.input_layer.weight.data.detach() -\n",
    "                                       ipllr_1.input_layer.weight.data.detach()) / math.sqrt(ipllr_2.d + 1)}\n",
    "    for i, l in enumerate(range(2, L + 1)):\n",
    "        layer_2 = getattr(ipllr_2.intermediate_layers, intermediate_layer_keys[i])\n",
    "        layer_1 = getattr(ipllr_1.intermediate_layers, intermediate_layer_keys[i])\n",
    "        Delta_W_2[l] = layer_scales[l-1] * (layer_2.weight.data.detach() -\n",
    "                                            layer_1.weight.data.detach())\n",
    "\n",
    "    Delta_W_2[L+1] = layer_scales[L] * (ipllr_2.output_layer.weight.data.detach() -\n",
    "                                        ipllr_1.output_layer.weight.data.detach())"
   ]
  },
  {
   "cell_type": "code",
   "execution_count": 21,
   "metadata": {},
   "outputs": [],
   "source": [
    "with torch.no_grad():\n",
    "    Delta_b_2 = layer_scales[0] * (ipllr_2.input_layer.bias.data.detach() -\n",
    "                                   ipllr_1.input_layer.bias.data.detach()) / math.sqrt(ipllr_1.d + 1)"
   ]
  },
  {
   "cell_type": "markdown",
   "metadata": {},
   "source": [
    "## Ranks"
   ]
  },
  {
   "cell_type": "code",
   "execution_count": 22,
   "metadata": {
    "scrolled": true
   },
   "outputs": [
    {
     "data": {
      "text/html": [
       "<div>\n",
       "<style scoped>\n",
       "    .dataframe tbody tr th:only-of-type {\n",
       "        vertical-align: middle;\n",
       "    }\n",
       "\n",
       "    .dataframe tbody tr th {\n",
       "        vertical-align: top;\n",
       "    }\n",
       "\n",
       "    .dataframe thead th {\n",
       "        text-align: right;\n",
       "    }\n",
       "</style>\n",
       "<table border=\"1\" class=\"dataframe\">\n",
       "  <thead>\n",
       "    <tr style=\"text-align: right;\">\n",
       "      <th></th>\n",
       "      <th>W0</th>\n",
       "      <th>Delta_W_1</th>\n",
       "      <th>Delta_W_2</th>\n",
       "      <th>max</th>\n",
       "    </tr>\n",
       "    <tr>\n",
       "      <th>layer</th>\n",
       "      <th></th>\n",
       "      <th></th>\n",
       "      <th></th>\n",
       "      <th></th>\n",
       "    </tr>\n",
       "  </thead>\n",
       "  <tbody>\n",
       "    <tr>\n",
       "      <th>1</th>\n",
       "      <td>784</td>\n",
       "      <td>712</td>\n",
       "      <td>505</td>\n",
       "      <td>784</td>\n",
       "    </tr>\n",
       "    <tr>\n",
       "      <th>2</th>\n",
       "      <td>1024</td>\n",
       "      <td>1022</td>\n",
       "      <td>163</td>\n",
       "      <td>1024</td>\n",
       "    </tr>\n",
       "    <tr>\n",
       "      <th>3</th>\n",
       "      <td>1024</td>\n",
       "      <td>1019</td>\n",
       "      <td>20</td>\n",
       "      <td>1024</td>\n",
       "    </tr>\n",
       "    <tr>\n",
       "      <th>4</th>\n",
       "      <td>1024</td>\n",
       "      <td>1011</td>\n",
       "      <td>8</td>\n",
       "      <td>1024</td>\n",
       "    </tr>\n",
       "    <tr>\n",
       "      <th>5</th>\n",
       "      <td>1024</td>\n",
       "      <td>996</td>\n",
       "      <td>7</td>\n",
       "      <td>1024</td>\n",
       "    </tr>\n",
       "    <tr>\n",
       "      <th>6</th>\n",
       "      <td>1023</td>\n",
       "      <td>957</td>\n",
       "      <td>4</td>\n",
       "      <td>1024</td>\n",
       "    </tr>\n",
       "    <tr>\n",
       "      <th>7</th>\n",
       "      <td>10</td>\n",
       "      <td>9</td>\n",
       "      <td>1</td>\n",
       "      <td>10</td>\n",
       "    </tr>\n",
       "  </tbody>\n",
       "</table>\n",
       "</div>"
      ],
      "text/plain": [
       "         W0 Delta_W_1 Delta_W_2   max\n",
       "layer                                \n",
       "1       784       712       505   784\n",
       "2      1024      1022       163  1024\n",
       "3      1024      1019        20  1024\n",
       "4      1024      1011         8  1024\n",
       "5      1024       996         7  1024\n",
       "6      1023       957         4  1024\n",
       "7        10         9         1    10"
      ]
     },
     "execution_count": 22,
     "metadata": {},
     "output_type": "execute_result"
    }
   ],
   "source": [
    "columns = ['W0', 'Delta_W_1', 'Delta_W_2', 'max']\n",
    "df = pd.DataFrame(columns=columns, index=range(1, L+2))\n",
    "df.index.name = 'layer'\n",
    "\n",
    "for l in df.index:\n",
    "    df.loc[l, columns] = [torch.matrix_rank(W0[l], tol=1e-6).item(), \n",
    "                          torch.matrix_rank(Delta_W_1[l], tol=1e-6).item(), \n",
    "                          torch.matrix_rank(Delta_W_2[l], tol=1e-6).item(),\n",
    "                          min(W0[l].shape[0], W0[l].shape[1])]\n",
    "    \n",
    "df"
   ]
  },
  {
   "cell_type": "markdown",
   "metadata": {},
   "source": [
    "## Explore at step 1"
   ]
  },
  {
   "cell_type": "markdown",
   "metadata": {},
   "source": [
    "### On all training examples"
   ]
  },
  {
   "cell_type": "code",
   "execution_count": 23,
   "metadata": {},
   "outputs": [],
   "source": [
    "x, y = full_x, full_y"
   ]
  },
  {
   "cell_type": "code",
   "execution_count": 24,
   "metadata": {},
   "outputs": [],
   "source": [
    "with torch.no_grad():\n",
    "    x1 = {0: x}\n",
    "    h0 = {1: F.linear(x, W0[1], b0)}\n",
    "    delta_h_1 = {1: F.linear(x, Delta_W_1[1], Delta_b_1)}\n",
    "    h1 = {1: layer_scales[0] * ipllr_1.input_layer.forward(x) / math.sqrt(ipllr_1.d + 1)}\n",
    "    x1[1] = ipllr_1.activation(h1[1])"
   ]
  },
  {
   "cell_type": "code",
   "execution_count": 25,
   "metadata": {},
   "outputs": [],
   "source": [
    "torch.testing.assert_allclose(h0[1] + delta_h_1[1], h1[1], rtol=1e-5, atol=1e-5)"
   ]
  },
  {
   "cell_type": "code",
   "execution_count": 26,
   "metadata": {},
   "outputs": [],
   "source": [
    "with torch.no_grad():\n",
    "    for i, l in enumerate(range(2, L + 1)):\n",
    "        layer_1 = getattr(ipllr_1.intermediate_layers, intermediate_layer_keys[i])\n",
    "        x = x1[l-1]\n",
    "\n",
    "        h0[l] =  F.linear(x, W0[l])\n",
    "        delta_h_1[l] = F.linear(x, Delta_W_1[l])\n",
    "        \n",
    "        h1[l] = layer_scales[l-1] * layer_1.forward(x)\n",
    "        x1[l] = ipllr_1.activation(h1[l])\n",
    "        \n",
    "        torch.testing.assert_allclose(h0[l] + delta_h_1[l], h1[l], rtol=1e-5, atol=1e-5)"
   ]
  },
  {
   "cell_type": "code",
   "execution_count": 27,
   "metadata": {},
   "outputs": [],
   "source": [
    "with torch.no_grad():\n",
    "    x = x1[L] \n",
    "    h0[L+1] = F.linear(x, W0[L+1])\n",
    "    delta_h_1[L+1] = F.linear(x, Delta_W_1[L+1])\n",
    "    h1[L+1] = layer_scales[L] * ipllr_1.output_layer.forward(x)\n",
    "    x1[L+1] = ipllr_1.activation(h1[L+1])\n",
    "                              \n",
    "    torch.testing.assert_allclose(h0[L+1] + delta_h_1[L+1], h1[L+1], rtol=1e-5, atol=1e-5)"
   ]
  },
  {
   "cell_type": "markdown",
   "metadata": {},
   "source": [
    "##### Diversity"
   ]
  },
  {
   "cell_type": "code",
   "execution_count": 28,
   "metadata": {},
   "outputs": [
    {
     "data": {
      "text/html": [
       "<div>\n",
       "<style scoped>\n",
       "    .dataframe tbody tr th:only-of-type {\n",
       "        vertical-align: middle;\n",
       "    }\n",
       "\n",
       "    .dataframe tbody tr th {\n",
       "        vertical-align: top;\n",
       "    }\n",
       "\n",
       "    .dataframe thead th {\n",
       "        text-align: right;\n",
       "    }\n",
       "</style>\n",
       "<table border=\"1\" class=\"dataframe\">\n",
       "  <thead>\n",
       "    <tr style=\"text-align: right;\">\n",
       "      <th></th>\n",
       "      <th>h0</th>\n",
       "      <th>delta_h_1</th>\n",
       "      <th>h1</th>\n",
       "      <th>x1</th>\n",
       "      <th>max</th>\n",
       "      <th>n_el</th>\n",
       "    </tr>\n",
       "    <tr>\n",
       "      <th>layer</th>\n",
       "      <th></th>\n",
       "      <th></th>\n",
       "      <th></th>\n",
       "      <th></th>\n",
       "      <th></th>\n",
       "      <th></th>\n",
       "    </tr>\n",
       "  </thead>\n",
       "  <tbody>\n",
       "    <tr>\n",
       "      <th>1</th>\n",
       "      <td>432</td>\n",
       "      <td>24</td>\n",
       "      <td>335</td>\n",
       "      <td>491</td>\n",
       "      <td>1024</td>\n",
       "      <td>60000</td>\n",
       "    </tr>\n",
       "    <tr>\n",
       "      <th>2</th>\n",
       "      <td>384</td>\n",
       "      <td>13</td>\n",
       "      <td>14</td>\n",
       "      <td>19</td>\n",
       "      <td>1024</td>\n",
       "      <td>60000</td>\n",
       "    </tr>\n",
       "    <tr>\n",
       "      <th>3</th>\n",
       "      <td>17</td>\n",
       "      <td>4</td>\n",
       "      <td>4</td>\n",
       "      <td>4</td>\n",
       "      <td>1024</td>\n",
       "      <td>60000</td>\n",
       "    </tr>\n",
       "    <tr>\n",
       "      <th>4</th>\n",
       "      <td>4</td>\n",
       "      <td>2</td>\n",
       "      <td>2</td>\n",
       "      <td>2</td>\n",
       "      <td>1024</td>\n",
       "      <td>60000</td>\n",
       "    </tr>\n",
       "    <tr>\n",
       "      <th>5</th>\n",
       "      <td>2</td>\n",
       "      <td>1</td>\n",
       "      <td>1</td>\n",
       "      <td>1</td>\n",
       "      <td>1024</td>\n",
       "      <td>60000</td>\n",
       "    </tr>\n",
       "    <tr>\n",
       "      <th>6</th>\n",
       "      <td>1</td>\n",
       "      <td>1</td>\n",
       "      <td>1</td>\n",
       "      <td>1</td>\n",
       "      <td>1024</td>\n",
       "      <td>60000</td>\n",
       "    </tr>\n",
       "    <tr>\n",
       "      <th>7</th>\n",
       "      <td>1</td>\n",
       "      <td>1</td>\n",
       "      <td>1</td>\n",
       "      <td>1</td>\n",
       "      <td>10</td>\n",
       "      <td>60000</td>\n",
       "    </tr>\n",
       "  </tbody>\n",
       "</table>\n",
       "</div>"
      ],
      "text/plain": [
       "        h0 delta_h_1   h1   x1   max   n_el\n",
       "layer                                      \n",
       "1      432        24  335  491  1024  60000\n",
       "2      384        13   14   19  1024  60000\n",
       "3       17         4    4    4  1024  60000\n",
       "4        4         2    2    2  1024  60000\n",
       "5        2         1    1    1  1024  60000\n",
       "6        1         1    1    1  1024  60000\n",
       "7        1         1    1    1    10  60000"
      ]
     },
     "execution_count": 28,
     "metadata": {},
     "output_type": "execute_result"
    }
   ],
   "source": [
    "columns = ['h0', 'delta_h_1', 'h1', 'x1']\n",
    "df = pd.DataFrame(columns=columns, index=range(1, L+2))\n",
    "df.index.name = 'layer'\n",
    "bs = x.shape[0]\n",
    "\n",
    "for l in df.index:\n",
    "\n",
    "    df.loc[l, columns] = [torch.matrix_rank(h0[l]).item(),\n",
    "                          torch.matrix_rank(delta_h_1[l]).item(),\n",
    "                          torch.matrix_rank(h1[l]).item(),\n",
    "                          torch.matrix_rank(x1[l]).item()]\n",
    "    df.loc[l, 'max'] = min(h0[l].shape[0], h0[l].shape[1])\n",
    "    \n",
    "df.loc[:, 'n_el'] = bs\n",
    "df.loc[:, 'max'] = df.loc[:, 'max'].astype(int)\n",
    "df"
   ]
  },
  {
   "cell_type": "code",
   "execution_count": 28,
   "metadata": {},
   "outputs": [
    {
     "data": {
      "text/html": [
       "<div>\n",
       "<style scoped>\n",
       "    .dataframe tbody tr th:only-of-type {\n",
       "        vertical-align: middle;\n",
       "    }\n",
       "\n",
       "    .dataframe tbody tr th {\n",
       "        vertical-align: top;\n",
       "    }\n",
       "\n",
       "    .dataframe thead th {\n",
       "        text-align: right;\n",
       "    }\n",
       "</style>\n",
       "<table border=\"1\" class=\"dataframe\">\n",
       "  <thead>\n",
       "    <tr style=\"text-align: right;\">\n",
       "      <th></th>\n",
       "      <th>h0</th>\n",
       "      <th>delta_h_1</th>\n",
       "      <th>h1</th>\n",
       "      <th>max</th>\n",
       "      <th>batch_size</th>\n",
       "    </tr>\n",
       "    <tr>\n",
       "      <th>layer</th>\n",
       "      <th></th>\n",
       "      <th></th>\n",
       "      <th></th>\n",
       "      <th></th>\n",
       "      <th></th>\n",
       "    </tr>\n",
       "  </thead>\n",
       "  <tbody>\n",
       "    <tr>\n",
       "      <th>1</th>\n",
       "      <td>716</td>\n",
       "      <td>47</td>\n",
       "      <td>318</td>\n",
       "      <td>1024</td>\n",
       "      <td>60000</td>\n",
       "    </tr>\n",
       "    <tr>\n",
       "      <th>2</th>\n",
       "      <td>154</td>\n",
       "      <td>2</td>\n",
       "      <td>2</td>\n",
       "      <td>1024</td>\n",
       "      <td>60000</td>\n",
       "    </tr>\n",
       "    <tr>\n",
       "      <th>3</th>\n",
       "      <td>7</td>\n",
       "      <td>1</td>\n",
       "      <td>2</td>\n",
       "      <td>1024</td>\n",
       "      <td>60000</td>\n",
       "    </tr>\n",
       "    <tr>\n",
       "      <th>4</th>\n",
       "      <td>1</td>\n",
       "      <td>1</td>\n",
       "      <td>1</td>\n",
       "      <td>1024</td>\n",
       "      <td>60000</td>\n",
       "    </tr>\n",
       "    <tr>\n",
       "      <th>5</th>\n",
       "      <td>1</td>\n",
       "      <td>1</td>\n",
       "      <td>1</td>\n",
       "      <td>1024</td>\n",
       "      <td>60000</td>\n",
       "    </tr>\n",
       "    <tr>\n",
       "      <th>6</th>\n",
       "      <td>1</td>\n",
       "      <td>1</td>\n",
       "      <td>1</td>\n",
       "      <td>1024</td>\n",
       "      <td>60000</td>\n",
       "    </tr>\n",
       "    <tr>\n",
       "      <th>7</th>\n",
       "      <td>1</td>\n",
       "      <td>1</td>\n",
       "      <td>1</td>\n",
       "      <td>10</td>\n",
       "      <td>60000</td>\n",
       "    </tr>\n",
       "  </tbody>\n",
       "</table>\n",
       "</div>"
      ],
      "text/plain": [
       "        h0 delta_h_1   h1   max  batch_size\n",
       "layer                                      \n",
       "1      716        47  318  1024       60000\n",
       "2      154         2    2  1024       60000\n",
       "3        7         1    2  1024       60000\n",
       "4        1         1    1  1024       60000\n",
       "5        1         1    1  1024       60000\n",
       "6        1         1    1  1024       60000\n",
       "7        1         1    1    10       60000"
      ]
     },
     "execution_count": 28,
     "metadata": {},
     "output_type": "execute_result"
    }
   ],
   "source": [
    "columns = ['h0', 'delta_h_1', 'h1']\n",
    "df = pd.DataFrame(columns=columns, index=range(1, L+2))\n",
    "df.index.name = 'layer'\n",
    "bs = x.shape[0]\n",
    "\n",
    "for l in df.index:\n",
    "    maxes = dict()\n",
    "    \n",
    "    _, maxes['h0'] = torch.max(h0[l] , dim=1)\n",
    "    _, maxes['delta_h_1'] = torch.max(delta_h_1[l] , dim=1)\n",
    "    _, maxes['h1'] = torch.max(h1[l] , dim=1)\n",
    "\n",
    "    df.loc[l, columns] = [maxes[key].unique().numel() for key in columns]\n",
    "    df.loc[l, 'max'] = min(bs, h0[l].shape[1])\n",
    "    \n",
    "df.loc[:, 'batch_size'] = bs\n",
    "df.loc[:, 'max'] = df.loc[:, 'max'].astype(int)\n",
    "df"
   ]
  },
  {
   "cell_type": "markdown",
   "metadata": {},
   "source": [
    "##### Scales"
   ]
  },
  {
   "cell_type": "code",
   "execution_count": 29,
   "metadata": {},
   "outputs": [
    {
     "data": {
      "text/html": [
       "<div>\n",
       "<style scoped>\n",
       "    .dataframe tbody tr th:only-of-type {\n",
       "        vertical-align: middle;\n",
       "    }\n",
       "\n",
       "    .dataframe tbody tr th {\n",
       "        vertical-align: top;\n",
       "    }\n",
       "\n",
       "    .dataframe thead th {\n",
       "        text-align: right;\n",
       "    }\n",
       "</style>\n",
       "<table border=\"1\" class=\"dataframe\">\n",
       "  <thead>\n",
       "    <tr style=\"text-align: right;\">\n",
       "      <th></th>\n",
       "      <th>h0</th>\n",
       "      <th>delta_h_1</th>\n",
       "      <th>h1</th>\n",
       "      <th>x1</th>\n",
       "    </tr>\n",
       "    <tr>\n",
       "      <th>layer</th>\n",
       "      <th></th>\n",
       "      <th></th>\n",
       "      <th></th>\n",
       "      <th></th>\n",
       "    </tr>\n",
       "  </thead>\n",
       "  <tbody>\n",
       "    <tr>\n",
       "      <th>1</th>\n",
       "      <td>1.17093</td>\n",
       "      <td>1.0656</td>\n",
       "      <td>1.61108</td>\n",
       "      <td>0.823059</td>\n",
       "    </tr>\n",
       "    <tr>\n",
       "      <th>2</th>\n",
       "      <td>0.0603477</td>\n",
       "      <td>1.12432</td>\n",
       "      <td>1.14772</td>\n",
       "      <td>0.579163</td>\n",
       "    </tr>\n",
       "    <tr>\n",
       "      <th>3</th>\n",
       "      <td>0.0441967</td>\n",
       "      <td>1.13337</td>\n",
       "      <td>1.15401</td>\n",
       "      <td>0.602801</td>\n",
       "    </tr>\n",
       "    <tr>\n",
       "      <th>4</th>\n",
       "      <td>0.046833</td>\n",
       "      <td>1.13561</td>\n",
       "      <td>1.15744</td>\n",
       "      <td>0.593479</td>\n",
       "    </tr>\n",
       "    <tr>\n",
       "      <th>5</th>\n",
       "      <td>0.0447512</td>\n",
       "      <td>1.1359</td>\n",
       "      <td>1.1586</td>\n",
       "      <td>0.584524</td>\n",
       "    </tr>\n",
       "    <tr>\n",
       "      <th>6</th>\n",
       "      <td>0.0431981</td>\n",
       "      <td>1.13629</td>\n",
       "      <td>1.15273</td>\n",
       "      <td>0.642845</td>\n",
       "    </tr>\n",
       "    <tr>\n",
       "      <th>7</th>\n",
       "      <td>0.0952198</td>\n",
       "      <td>0.113666</td>\n",
       "      <td>0.208886</td>\n",
       "      <td>0.110978</td>\n",
       "    </tr>\n",
       "  </tbody>\n",
       "</table>\n",
       "</div>"
      ],
      "text/plain": [
       "              h0 delta_h_1        h1        x1\n",
       "layer                                         \n",
       "1        1.17093    1.0656   1.61108  0.823059\n",
       "2      0.0603477   1.12432   1.14772  0.579163\n",
       "3      0.0441967   1.13337   1.15401  0.602801\n",
       "4       0.046833   1.13561   1.15744  0.593479\n",
       "5      0.0447512    1.1359    1.1586  0.584524\n",
       "6      0.0431981   1.13629   1.15273  0.642845\n",
       "7      0.0952198  0.113666  0.208886  0.110978"
      ]
     },
     "execution_count": 29,
     "metadata": {},
     "output_type": "execute_result"
    }
   ],
   "source": [
    "columns = ['h0', 'delta_h_1', 'h1', 'x1']\n",
    "df = pd.DataFrame(columns=columns, index=range(1, L+2))\n",
    "df.index.name = 'layer'\n",
    "for l in df.index:\n",
    "    df.loc[l, columns] = [h0[l][0, :].abs().mean().item(),\n",
    "                          delta_h_1[l][0, :].abs().mean().item(), \n",
    "                          h1[l][0, :].abs().mean().item(),\n",
    "                          x1[l][0, :].abs().mean().item()]\n",
    "df"
   ]
  },
  {
   "cell_type": "code",
   "execution_count": null,
   "metadata": {},
   "outputs": [],
   "source": []
  },
  {
   "cell_type": "code",
   "execution_count": null,
   "metadata": {},
   "outputs": [],
   "source": []
  },
  {
   "cell_type": "markdown",
   "metadata": {},
   "source": [
    "## Explore at step 2"
   ]
  },
  {
   "cell_type": "markdown",
   "metadata": {},
   "source": [
    "### On examples from the second batch"
   ]
  },
  {
   "cell_type": "code",
   "execution_count": 30,
   "metadata": {},
   "outputs": [],
   "source": [
    "x, y = full_x, full_y"
   ]
  },
  {
   "cell_type": "code",
   "execution_count": 31,
   "metadata": {},
   "outputs": [],
   "source": [
    "with torch.no_grad():\n",
    "    x2 = {0: x}\n",
    "    h0 = {1: F.linear(x, W0[1], b0)}\n",
    "    delta_h_1 = {1: F.linear(x, Delta_W_1[1], Delta_b_1)}\n",
    "    delta_h_2 = {1: F.linear(x, Delta_W_2[1], Delta_b_2)}\n",
    "    h1 = {1: layer_scales[0] * ipllr_1.input_layer.forward(x) / math.sqrt(ipllr_1.d + 1)}\n",
    "    h2 = {1: layer_scales[0] * ipllr_2.input_layer.forward(x) / math.sqrt(ipllr_2.d + 1)}\n",
    "    x2[1] = ipllr_2.activation(h2[1])"
   ]
  },
  {
   "cell_type": "code",
   "execution_count": 32,
   "metadata": {},
   "outputs": [],
   "source": [
    "torch.testing.assert_allclose(h0[1] + delta_h_1[1], h1[1], rtol=1e-5, atol=1e-4)\n",
    "torch.testing.assert_allclose(h0[1] + delta_h_1[1] + delta_h_2[1], h2[1], rtol=1e-5, atol=1e-4)"
   ]
  },
  {
   "cell_type": "code",
   "execution_count": 33,
   "metadata": {},
   "outputs": [],
   "source": [
    "with torch.no_grad():\n",
    "    for i, l in enumerate(range(2, L + 1)):\n",
    "        layer_1 = getattr(ipllr_1.intermediate_layers, intermediate_layer_keys[i])\n",
    "        layer_2 = getattr(ipllr_2.intermediate_layers, intermediate_layer_keys[i])\n",
    "        x = x2[l-1]\n",
    "\n",
    "        h0[l] =  F.linear(x, W0[l])\n",
    "        delta_h_1[l] = F.linear(x, Delta_W_1[l])\n",
    "        delta_h_2[l] = F.linear(x, Delta_W_2[l])\n",
    "        \n",
    "        h1[l] = layer_scales[l-1] * layer_1.forward(x)\n",
    "        h2[l] = layer_scales[l-1] * layer_2.forward(x)\n",
    "        x2[l] = ipllr_2.activation(h2[l])\n",
    "        \n",
    "        torch.testing.assert_allclose(h0[l] + delta_h_1[l], h1[l], rtol=1e-5, atol=1e-5)\n",
    "        torch.testing.assert_allclose(h0[l] + delta_h_1[l] + delta_h_2[l], h2[l], rtol=1e-5, atol=1e-5)"
   ]
  },
  {
   "cell_type": "code",
   "execution_count": 34,
   "metadata": {},
   "outputs": [],
   "source": [
    "with torch.no_grad():\n",
    "    x = x2[L] \n",
    "    h0[L+1] = F.linear(x, W0[L+1])\n",
    "    delta_h_1[L+1] = F.linear(x, Delta_W_1[L+1])\n",
    "    delta_h_2[L+1] = F.linear(x, Delta_W_2[L+1])\n",
    "    h1[L+1] = layer_scales[L] * ipllr_1.output_layer.forward(x)\n",
    "    h2[L+1] = layer_scales[L] * ipllr_2.output_layer.forward(x)\n",
    "    x2[L+1] = ipllr_2.activation(h2[L+1])\n",
    "                              \n",
    "    torch.testing.assert_allclose(h0[L+1] + delta_h_1[L+1], h1[L+1], rtol=1e-5, atol=1e-5)\n",
    "    torch.testing.assert_allclose(h0[L+1] + delta_h_1[L+1] + delta_h_2[L+1], h2[L+1], rtol=1e-5, atol=1e-5)"
   ]
  },
  {
   "cell_type": "markdown",
   "metadata": {},
   "source": [
    "##### Diversity"
   ]
  },
  {
   "cell_type": "code",
   "execution_count": 35,
   "metadata": {},
   "outputs": [
    {
     "data": {
      "text/html": [
       "<div>\n",
       "<style scoped>\n",
       "    .dataframe tbody tr th:only-of-type {\n",
       "        vertical-align: middle;\n",
       "    }\n",
       "\n",
       "    .dataframe tbody tr th {\n",
       "        vertical-align: top;\n",
       "    }\n",
       "\n",
       "    .dataframe thead th {\n",
       "        text-align: right;\n",
       "    }\n",
       "</style>\n",
       "<table border=\"1\" class=\"dataframe\">\n",
       "  <thead>\n",
       "    <tr style=\"text-align: right;\">\n",
       "      <th></th>\n",
       "      <th>h0</th>\n",
       "      <th>delta_h_1</th>\n",
       "      <th>delta_h_2</th>\n",
       "      <th>h1</th>\n",
       "      <th>h2</th>\n",
       "      <th>max</th>\n",
       "      <th>batch_size</th>\n",
       "    </tr>\n",
       "    <tr>\n",
       "      <th>layer</th>\n",
       "      <th></th>\n",
       "      <th></th>\n",
       "      <th></th>\n",
       "      <th></th>\n",
       "      <th></th>\n",
       "      <th></th>\n",
       "      <th></th>\n",
       "    </tr>\n",
       "  </thead>\n",
       "  <tbody>\n",
       "    <tr>\n",
       "      <th>1</th>\n",
       "      <td>716</td>\n",
       "      <td>47</td>\n",
       "      <td>9</td>\n",
       "      <td>318</td>\n",
       "      <td>431</td>\n",
       "      <td>1024</td>\n",
       "      <td>60000</td>\n",
       "    </tr>\n",
       "    <tr>\n",
       "      <th>2</th>\n",
       "      <td>322</td>\n",
       "      <td>6</td>\n",
       "      <td>2</td>\n",
       "      <td>7</td>\n",
       "      <td>7</td>\n",
       "      <td>1024</td>\n",
       "      <td>60000</td>\n",
       "    </tr>\n",
       "    <tr>\n",
       "      <th>3</th>\n",
       "      <td>13</td>\n",
       "      <td>3</td>\n",
       "      <td>1</td>\n",
       "      <td>4</td>\n",
       "      <td>4</td>\n",
       "      <td>1024</td>\n",
       "      <td>60000</td>\n",
       "    </tr>\n",
       "    <tr>\n",
       "      <th>4</th>\n",
       "      <td>1</td>\n",
       "      <td>1</td>\n",
       "      <td>1</td>\n",
       "      <td>1</td>\n",
       "      <td>1</td>\n",
       "      <td>1024</td>\n",
       "      <td>60000</td>\n",
       "    </tr>\n",
       "    <tr>\n",
       "      <th>5</th>\n",
       "      <td>1</td>\n",
       "      <td>1</td>\n",
       "      <td>1</td>\n",
       "      <td>1</td>\n",
       "      <td>1</td>\n",
       "      <td>1024</td>\n",
       "      <td>60000</td>\n",
       "    </tr>\n",
       "    <tr>\n",
       "      <th>6</th>\n",
       "      <td>1</td>\n",
       "      <td>1</td>\n",
       "      <td>1</td>\n",
       "      <td>1</td>\n",
       "      <td>1</td>\n",
       "      <td>1024</td>\n",
       "      <td>60000</td>\n",
       "    </tr>\n",
       "    <tr>\n",
       "      <th>7</th>\n",
       "      <td>1</td>\n",
       "      <td>1</td>\n",
       "      <td>1</td>\n",
       "      <td>1</td>\n",
       "      <td>1</td>\n",
       "      <td>10</td>\n",
       "      <td>60000</td>\n",
       "    </tr>\n",
       "  </tbody>\n",
       "</table>\n",
       "</div>"
      ],
      "text/plain": [
       "        h0 delta_h_1 delta_h_2   h1   h2   max  batch_size\n",
       "layer                                                     \n",
       "1      716        47         9  318  431  1024       60000\n",
       "2      322         6         2    7    7  1024       60000\n",
       "3       13         3         1    4    4  1024       60000\n",
       "4        1         1         1    1    1  1024       60000\n",
       "5        1         1         1    1    1  1024       60000\n",
       "6        1         1         1    1    1  1024       60000\n",
       "7        1         1         1    1    1    10       60000"
      ]
     },
     "execution_count": 35,
     "metadata": {},
     "output_type": "execute_result"
    }
   ],
   "source": [
    "columns = ['h0', 'delta_h_1', 'delta_h_2', 'h1', 'h2']\n",
    "df = pd.DataFrame(columns=columns, index=range(1, L+2))\n",
    "df.index.name = 'layer'\n",
    "bs = x.shape[0]\n",
    "\n",
    "for l in df.index:\n",
    "    maxes = dict()\n",
    "    \n",
    "    _, maxes['h0'] = torch.max(h0[l] , dim=1)\n",
    "    _, maxes['delta_h_1'] = torch.max(delta_h_1[l] , dim=1)\n",
    "    _, maxes['delta_h_2'] = torch.max(delta_h_2[l] , dim=1)\n",
    "    _, maxes['h1'] = torch.max(h1[l] , dim=1)\n",
    "    _, maxes['h2'] = torch.max(h2[l] , dim=1)\n",
    "\n",
    "    df.loc[l, columns] = [maxes[key].unique().numel() for key in columns]\n",
    "    df.loc[l, 'max'] = min(bs, h0[l].shape[1])\n",
    "    \n",
    "df.loc[:, 'batch_size'] = bs\n",
    "df.loc[:, 'max'] = df.loc[:, 'max'].astype(int)\n",
    "df"
   ]
  },
  {
   "cell_type": "markdown",
   "metadata": {},
   "source": [
    "##### Scales"
   ]
  },
  {
   "cell_type": "code",
   "execution_count": 36,
   "metadata": {},
   "outputs": [
    {
     "data": {
      "text/html": [
       "<div>\n",
       "<style scoped>\n",
       "    .dataframe tbody tr th:only-of-type {\n",
       "        vertical-align: middle;\n",
       "    }\n",
       "\n",
       "    .dataframe tbody tr th {\n",
       "        vertical-align: top;\n",
       "    }\n",
       "\n",
       "    .dataframe thead th {\n",
       "        text-align: right;\n",
       "    }\n",
       "</style>\n",
       "<table border=\"1\" class=\"dataframe\">\n",
       "  <thead>\n",
       "    <tr style=\"text-align: right;\">\n",
       "      <th></th>\n",
       "      <th>h0</th>\n",
       "      <th>delta_h_1</th>\n",
       "      <th>delta_h_2</th>\n",
       "      <th>h1</th>\n",
       "      <th>h2</th>\n",
       "      <th>x2</th>\n",
       "    </tr>\n",
       "    <tr>\n",
       "      <th>layer</th>\n",
       "      <th></th>\n",
       "      <th></th>\n",
       "      <th></th>\n",
       "      <th></th>\n",
       "      <th></th>\n",
       "      <th></th>\n",
       "    </tr>\n",
       "  </thead>\n",
       "  <tbody>\n",
       "    <tr>\n",
       "      <th>1</th>\n",
       "      <td>1.17093</td>\n",
       "      <td>1.0656</td>\n",
       "      <td>0.497143</td>\n",
       "      <td>1.61108</td>\n",
       "      <td>1.73718</td>\n",
       "      <td>0.834751</td>\n",
       "    </tr>\n",
       "    <tr>\n",
       "      <th>2</th>\n",
       "      <td>0.0619237</td>\n",
       "      <td>1.18527</td>\n",
       "      <td>0.00184346</td>\n",
       "      <td>1.20599</td>\n",
       "      <td>1.20745</td>\n",
       "      <td>0.613684</td>\n",
       "    </tr>\n",
       "    <tr>\n",
       "      <th>3</th>\n",
       "      <td>0.0472125</td>\n",
       "      <td>1.24061</td>\n",
       "      <td>0.00132274</td>\n",
       "      <td>1.26207</td>\n",
       "      <td>1.26145</td>\n",
       "      <td>0.659869</td>\n",
       "    </tr>\n",
       "    <tr>\n",
       "      <th>4</th>\n",
       "      <td>0.0514968</td>\n",
       "      <td>1.24531</td>\n",
       "      <td>0.00166271</td>\n",
       "      <td>1.26933</td>\n",
       "      <td>1.26827</td>\n",
       "      <td>0.649876</td>\n",
       "    </tr>\n",
       "    <tr>\n",
       "      <th>5</th>\n",
       "      <td>0.0490219</td>\n",
       "      <td>1.24306</td>\n",
       "      <td>0.00281645</td>\n",
       "      <td>1.26791</td>\n",
       "      <td>1.26647</td>\n",
       "      <td>0.63825</td>\n",
       "    </tr>\n",
       "    <tr>\n",
       "      <th>6</th>\n",
       "      <td>0.0471972</td>\n",
       "      <td>1.23627</td>\n",
       "      <td>0.00348511</td>\n",
       "      <td>1.25418</td>\n",
       "      <td>1.25295</td>\n",
       "      <td>0.698146</td>\n",
       "    </tr>\n",
       "    <tr>\n",
       "      <th>7</th>\n",
       "      <td>0.102555</td>\n",
       "      <td>0.122415</td>\n",
       "      <td>0.00128374</td>\n",
       "      <td>0.22497</td>\n",
       "      <td>0.224461</td>\n",
       "      <td>0.119413</td>\n",
       "    </tr>\n",
       "  </tbody>\n",
       "</table>\n",
       "</div>"
      ],
      "text/plain": [
       "              h0 delta_h_1   delta_h_2       h1        h2        x2\n",
       "layer                                                              \n",
       "1        1.17093    1.0656    0.497143  1.61108   1.73718  0.834751\n",
       "2      0.0619237   1.18527  0.00184346  1.20599   1.20745  0.613684\n",
       "3      0.0472125   1.24061  0.00132274  1.26207   1.26145  0.659869\n",
       "4      0.0514968   1.24531  0.00166271  1.26933   1.26827  0.649876\n",
       "5      0.0490219   1.24306  0.00281645  1.26791   1.26647   0.63825\n",
       "6      0.0471972   1.23627  0.00348511  1.25418   1.25295  0.698146\n",
       "7       0.102555  0.122415  0.00128374  0.22497  0.224461  0.119413"
      ]
     },
     "execution_count": 36,
     "metadata": {},
     "output_type": "execute_result"
    }
   ],
   "source": [
    "columns = ['h0', 'delta_h_1', 'delta_h_2', 'h1', 'h2', 'x2']\n",
    "df = pd.DataFrame(columns=columns, index=range(1, L+2))\n",
    "df.index.name = 'layer'\n",
    "for l in df.index:\n",
    "    df.loc[l, columns] = [h0[l][0, :].abs().mean().item(), delta_h_1[l][0, :].abs().mean().item(), \n",
    "                          delta_h_2[l][0, :].abs().mean().item(), h1[l][0, :].abs().mean().item(),  \n",
    "                          h2[l][0, :].abs().mean().item(),\n",
    "                          x2[l][0, :].abs().mean().item()]\n",
    "df"
   ]
  },
  {
   "cell_type": "code",
   "execution_count": 37,
   "metadata": {},
   "outputs": [
    {
     "data": {
      "text/plain": [
       "tensor(0.4898)"
      ]
     },
     "execution_count": 37,
     "metadata": {},
     "output_type": "execute_result"
    }
   ],
   "source": [
    "(h0[1] < 0).sum() / h0[1].numel()"
   ]
  },
  {
   "cell_type": "code",
   "execution_count": 38,
   "metadata": {},
   "outputs": [
    {
     "data": {
      "text/plain": [
       "tensor(0.5079)"
      ]
     },
     "execution_count": 38,
     "metadata": {},
     "output_type": "execute_result"
    }
   ],
   "source": [
    "(delta_h_1[1] < 0).sum() / delta_h_1[1].numel()"
   ]
  },
  {
   "cell_type": "code",
   "execution_count": 39,
   "metadata": {},
   "outputs": [
    {
     "data": {
      "text/plain": [
       "tensor(0.7287)"
      ]
     },
     "execution_count": 39,
     "metadata": {},
     "output_type": "execute_result"
    }
   ],
   "source": [
    "(delta_h_2[1] < 0).sum() / delta_h_2[1].numel()"
   ]
  },
  {
   "cell_type": "code",
   "execution_count": 40,
   "metadata": {},
   "outputs": [
    {
     "data": {
      "text/plain": [
       "tensor(0.5256)"
      ]
     },
     "execution_count": 40,
     "metadata": {},
     "output_type": "execute_result"
    }
   ],
   "source": [
    "(h1[1] < 0).sum() / h1[1].numel()"
   ]
  },
  {
   "cell_type": "code",
   "execution_count": 41,
   "metadata": {},
   "outputs": [
    {
     "data": {
      "text/plain": [
       "tensor(0.6095)"
      ]
     },
     "execution_count": 41,
     "metadata": {},
     "output_type": "execute_result"
    }
   ],
   "source": [
    "(h2[1] < 0).sum() / h2[1].numel()"
   ]
  },
  {
   "cell_type": "code",
   "execution_count": null,
   "metadata": {},
   "outputs": [],
   "source": []
  },
  {
   "cell_type": "code",
   "execution_count": 42,
   "metadata": {},
   "outputs": [
    {
     "data": {
      "text/plain": [
       "tensor(0.5209)"
      ]
     },
     "execution_count": 42,
     "metadata": {},
     "output_type": "execute_result"
    }
   ],
   "source": [
    "(h0[2] < 0).sum() / h0[2].numel()"
   ]
  },
  {
   "cell_type": "code",
   "execution_count": 43,
   "metadata": {},
   "outputs": [
    {
     "data": {
      "text/plain": [
       "tensor(0.4872)"
      ]
     },
     "execution_count": 43,
     "metadata": {},
     "output_type": "execute_result"
    }
   ],
   "source": [
    "(delta_h_1[2] < 0).sum() / delta_h_1[2].numel()"
   ]
  },
  {
   "cell_type": "code",
   "execution_count": 44,
   "metadata": {},
   "outputs": [
    {
     "data": {
      "text/plain": [
       "tensor(0.4501)"
      ]
     },
     "execution_count": 44,
     "metadata": {},
     "output_type": "execute_result"
    }
   ],
   "source": [
    "(delta_h_2[2] < 0).sum() / delta_h_2[2].numel()"
   ]
  },
  {
   "cell_type": "code",
   "execution_count": 45,
   "metadata": {},
   "outputs": [
    {
     "data": {
      "text/plain": [
       "tensor(0.5114)"
      ]
     },
     "execution_count": 45,
     "metadata": {},
     "output_type": "execute_result"
    }
   ],
   "source": [
    "(h1[2] < 0).sum() / h1[2].numel()"
   ]
  },
  {
   "cell_type": "code",
   "execution_count": 46,
   "metadata": {},
   "outputs": [
    {
     "data": {
      "text/plain": [
       "tensor(0.5117)"
      ]
     },
     "execution_count": 46,
     "metadata": {},
     "output_type": "execute_result"
    }
   ],
   "source": [
    "(h2[2] < 0).sum() / h2[2].numel()"
   ]
  },
  {
   "cell_type": "code",
   "execution_count": null,
   "metadata": {},
   "outputs": [],
   "source": []
  }
 ],
 "metadata": {
  "kernelspec": {
   "display_name": "Python 3",
   "language": "python",
   "name": "python3"
  },
  "language_info": {
   "codemirror_mode": {
    "name": "ipython",
    "version": 3
   },
   "file_extension": ".py",
   "mimetype": "text/x-python",
   "name": "python",
   "nbconvert_exporter": "python",
   "pygments_lexer": "ipython3",
   "version": "3.8.2"
  }
 },
 "nbformat": 4,
 "nbformat_minor": 4
}
