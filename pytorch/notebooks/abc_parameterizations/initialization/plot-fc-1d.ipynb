{
 "cells": [
  {
   "cell_type": "code",
   "execution_count": 1,
   "metadata": {},
   "outputs": [],
   "source": [
    "%load_ext autoreload\n",
    "%autoreload 2"
   ]
  },
  {
   "cell_type": "code",
   "execution_count": 2,
   "metadata": {},
   "outputs": [],
   "source": [
    "#%matplotlib notebook\n",
    "%matplotlib inline"
   ]
  },
  {
   "cell_type": "code",
   "execution_count": 3,
   "metadata": {},
   "outputs": [],
   "source": [
    "import os\n",
    "cwd = os.getcwd()\n",
    "\n",
    "NOTEBOOK_DIR = os.path.dirname(cwd)\n",
    "ROOT = os.path.dirname(os.path.dirname(os.path.dirname(NOTEBOOK_DIR)))\n",
    "\n",
    "FIGURES_DIR = os.path.join(ROOT, 'figures/abc_parameterizations/initialization')\n",
    "CONFIG_PATH = os.path.join(ROOT, 'pytorch/configs/abc_parameterizations/fc_abc.yaml')"
   ]
  },
  {
   "cell_type": "code",
   "execution_count": 4,
   "metadata": {},
   "outputs": [],
   "source": [
    "import sys\n",
    "sys.path.append(ROOT)"
   ]
  },
  {
   "cell_type": "code",
   "execution_count": 5,
   "metadata": {},
   "outputs": [],
   "source": [
    "import torch\n",
    "import pickle\n",
    "from utils.tools import load_pickle\n",
    "\n",
    "from utils.tools import read_yaml, set_random_seeds\n",
    "from utils.plot.abc_parameterizations.initializations import *\n",
    "from utils.plot.abc_parameterizations.one_d_functions import *\n",
    "from pytorch.configs.base import BaseConfig\n",
    "from pytorch.configs.model import ModelConfig\n",
    "from pytorch.models.abc_params.fully_connected import ntk, ip, muP, ipllr\n",
    "from pytorch.models.abc_params.fully_connected.standard_fc_ip import StandardFCIP"
   ]
  },
  {
   "cell_type": "markdown",
   "metadata": {},
   "source": [
    "## Set variables"
   ]
  },
  {
   "cell_type": "code",
   "execution_count": 6,
   "metadata": {},
   "outputs": [],
   "source": [
    "SEED = 42\n",
    "N_SAMPLES = 100\n",
    "N_TRAIN = 10\n",
    "BASE_LR = 0.1\n",
    "\n",
    "set_random_seeds(SEED)  # set random seed for reproducibility\n",
    "config_dict = read_yaml(CONFIG_PATH)\n",
    "base_config = ModelConfig(config_dict)\n",
    "\n",
    "# modify config for this notebook\n",
    "base_config.architecture['input_size'] = 1\n",
    "base_config.architecture['output_size'] = 1\n",
    "base_config.architecture['bias'] = False\n",
    "base_config.activation.name = 'relu'\n",
    "base_config.loss.name = 'mse'\n",
    "base_config.optimizer.params['lr'] = BASE_LR"
   ]
  },
  {
   "cell_type": "code",
   "execution_count": 7,
   "metadata": {},
   "outputs": [],
   "source": [
    "xs, ys = generate_1d_data(n_samples=10)"
   ]
  },
  {
   "cell_type": "markdown",
   "metadata": {},
   "source": [
    "## Define models"
   ]
  },
  {
   "cell_type": "code",
   "execution_count": 8,
   "metadata": {},
   "outputs": [],
   "source": [
    "WIDTHS = [1024]\n",
    "N_WARMUP_STEPS = 1  # 4\n",
    "L = 4\n",
    "N_TRIALS = 10  # 5\n",
    "N_EPOCHS = 3000 # 6000"
   ]
  },
  {
   "cell_type": "code",
   "execution_count": 9,
   "metadata": {},
   "outputs": [],
   "source": [
    "name_to_model_dict = {\n",
    "    'StandardIP': StandardFCIP,\n",
    "    'NTK': ntk.FCNTK,\n",
    "    'muP': muP.FCmuP,\n",
    "    'IPLLR': ipllr.FcIPLLR\n",
    "}"
   ]
  },
  {
   "cell_type": "code",
   "execution_count": 10,
   "metadata": {},
   "outputs": [],
   "source": [
    "models_dict = dict()\n",
    "for name, model in name_to_model_dict.items():\n",
    "    models_dict[name] = dict()\n",
    "    for width in WIDTHS:  # define models with different widths\n",
    "        # first modify the base common config\n",
    "        config = deepcopy(base_config)\n",
    "        config.name = name\n",
    "        config.architecture['width'] = width\n",
    "        config.architecture['n_layers'] = L + 1\n",
    "        \n",
    "        if name == 'IPLLR':\n",
    "            scheduler_config = {'name': 'warmup_switch', \n",
    "                                'params': {'n_warmup_steps': N_WARMUP_STEPS}}\n",
    "            config.scheduler = BaseConfig(scheduler_config)\n",
    "        if 'IP' in name:\n",
    "            config.optimizer.params['lr'] = 0.4\n",
    "        if name == 'muP':\n",
    "            config.optimizer.params['lr'] = 0.1\n",
    "        \n",
    "        # define N_TRIALS random initializations of the same model\n",
    "        models_dict[name][width] = [name_to_model_dict[name](config) for _ in range(N_TRIALS)]"
   ]
  },
  {
   "cell_type": "markdown",
   "metadata": {},
   "source": [
    "### Set U and v to be the same for all models"
   ]
  },
  {
   "cell_type": "code",
   "execution_count": 11,
   "metadata": {},
   "outputs": [],
   "source": [
    "for name in models_dict.keys():\n",
    "    if name != 'NTK':\n",
    "        for width in WIDTHS:\n",
    "            for i in range(N_TRIALS):\n",
    "                ntk = models_dict['NTK'][width][i]\n",
    "                model = models_dict[name][width][i]\n",
    "                with torch.no_grad():\n",
    "                    model.copy_initial_params_from_model(ntk, check_model=True)\n",
    "                    model.initialize_params()"
   ]
  },
  {
   "cell_type": "code",
   "execution_count": 12,
   "metadata": {},
   "outputs": [],
   "source": [
    "init_dict = dict()\n",
    "for name in models_dict.keys():\n",
    "    init_dict[name] = dict()\n",
    "    for width in WIDTHS:\n",
    "        init_dict[name][width] = [deepcopy(model) for model in models_dict[name][width]]"
   ]
  },
  {
   "cell_type": "code",
   "execution_count": 13,
   "metadata": {},
   "outputs": [],
   "source": [
    "models_dict_copy = deepcopy(models_dict)"
   ]
  },
  {
   "cell_type": "code",
   "execution_count": null,
   "metadata": {},
   "outputs": [],
   "source": [
    "batch_xs = torch.unsqueeze(xs, 1)\n",
    "batch_ys = torch.unsqueeze(ys, 1)\n",
    "#for name in models_dict.keys():\n",
    "#    for width in WIDTHS:\n",
    "#        for model in models_dict[name][width]:\n",
    "#            fit_model(model, batch_xs, batch_ys, n_epochs=N_EPOCHS)\n",
    "\n",
    "for name in ['IPLLR']:\n",
    "#for name in ['muP']:\n",
    "    for width in WIDTHS:\n",
    "        for model in models_dict[name][width]:\n",
    "            fit_model(model, batch_xs, batch_ys, n_epochs=N_EPOCHS)"
   ]
  },
  {
   "cell_type": "code",
   "execution_count": null,
   "metadata": {},
   "outputs": [],
   "source": [
    "# INIT \n",
    "name = 'NTK'\n",
    "plt.figure(figsize=(12, 6))\n",
    "plot_model(init_dict[name][1024], xs, ys, label=name, scatter=True)"
   ]
  },
  {
   "cell_type": "code",
   "execution_count": null,
   "metadata": {},
   "outputs": [],
   "source": [
    "name = 'NTK'\n",
    "plt.figure(figsize=(12, 6))\n",
    "plot_model(models_dict[name][1024], xs, ys, label=name, scatter=True)"
   ]
  },
  {
   "cell_type": "code",
   "execution_count": null,
   "metadata": {},
   "outputs": [],
   "source": [
    "# INIT \n",
    "name = 'muP'\n",
    "plt.figure(figsize=(12, 6))\n",
    "plot_model(init_dict[name][1024], xs, ys, label=name, scatter=True)"
   ]
  },
  {
   "cell_type": "code",
   "execution_count": null,
   "metadata": {},
   "outputs": [],
   "source": [
    "name = 'muP'\n",
    "plt.figure(figsize=(12, 6))\n",
    "plot_model(models_dict[name][1024], xs, ys, label=name, scatter=True)"
   ]
  },
  {
   "cell_type": "code",
   "execution_count": null,
   "metadata": {},
   "outputs": [],
   "source": [
    "name = 'muP'\n",
    "plt.figure(figsize=(12, 6))\n",
    "plot_model(models_dict[name][1024][0], xs, ys, label=name, scatter=True)"
   ]
  },
  {
   "cell_type": "code",
   "execution_count": null,
   "metadata": {},
   "outputs": [],
   "source": [
    "name = 'muP'\n",
    "plt.figure(figsize=(12, 6))\n",
    "plot_model(models_dict[name][1024][1], xs, ys, label=name, scatter=True)"
   ]
  },
  {
   "cell_type": "code",
   "execution_count": null,
   "metadata": {},
   "outputs": [],
   "source": [
    "name = 'muP'\n",
    "plt.figure(figsize=(12, 6))\n",
    "plot_model(models_dict[name][1024][2], xs, ys, label=name, scatter=True)"
   ]
  },
  {
   "cell_type": "code",
   "execution_count": null,
   "metadata": {},
   "outputs": [],
   "source": [
    "# INIT \n",
    "name = 'IPLLR'\n",
    "plt.figure(figsize=(12, 6))\n",
    "plot_model(init_dict[name][1024], xs, ys, label=name, scatter=True)\n",
    "plt.ylim(-0.00001, 0.00001)\n",
    "plt.show()"
   ]
  },
  {
   "cell_type": "code",
   "execution_count": null,
   "metadata": {},
   "outputs": [],
   "source": [
    "name = 'IPLLR'\n",
    "plt.figure(figsize=(12, 6))\n",
    "plot_model(models_dict[name][1024][0], xs, ys, label=name, scatter=True)\n",
    "# plt.ylim(-0.0001, 0.0001)\n",
    "plt.show()"
   ]
  },
  {
   "cell_type": "code",
   "execution_count": null,
   "metadata": {
    "scrolled": false
   },
   "outputs": [],
   "source": [
    "name = 'IPLLR'\n",
    "plt.figure(figsize=(12, 6))\n",
    "plot_model(models_dict[name][1024][1], xs, ys, label=name, scatter=True)\n",
    "# plt.ylim(-0.0001, 0.0001)\n",
    "plt.show()"
   ]
  },
  {
   "cell_type": "code",
   "execution_count": null,
   "metadata": {},
   "outputs": [],
   "source": [
    "name = 'IPLLR'\n",
    "plt.figure(figsize=(12, 6))\n",
    "plot_model(models_dict[name][1024][2], xs, ys, label=name, scatter=True)\n",
    "# plt.ylim(-0.0001, 0.0001)\n",
    "plt.show()"
   ]
  },
  {
   "cell_type": "code",
   "execution_count": null,
   "metadata": {},
   "outputs": [],
   "source": [
    "# WEIGHTS OF THE LAST LAYER "
   ]
  },
  {
   "cell_type": "code",
   "execution_count": null,
   "metadata": {},
   "outputs": [],
   "source": [
    "name = 'IPLLR'\n",
    "plt.figure(figsize=(12, 6))\n",
    "plot_model(models_dict[name][1024], xs, ys, label=name, scatter=True)\n",
    "# plt.ylim(-0.0001, 0.0001)\n",
    "plt.show()"
   ]
  },
  {
   "cell_type": "code",
   "execution_count": null,
   "metadata": {},
   "outputs": [],
   "source": [
    "# INIT \n",
    "name = 'StandardIP'\n",
    "plt.figure(figsize=(12, 6))\n",
    "plot_model(init_dict[name][1024], xs, ys, label=name, scatter=True)\n",
    "plt.ylim(-0.0001, 0.0001)\n",
    "plt.show()"
   ]
  },
  {
   "cell_type": "code",
   "execution_count": null,
   "metadata": {},
   "outputs": [],
   "source": [
    "name = 'StandardIP'\n",
    "plt.figure(figsize=(12, 6))\n",
    "plot_model(models_dict[name][1024], xs, ys, label=name, scatter=True)\n",
    "#plt.ylim(-0.0001, 0.0001)\n",
    "plt.show()"
   ]
  },
  {
   "cell_type": "markdown",
   "metadata": {},
   "source": [
    "### Training"
   ]
  },
  {
   "cell_type": "code",
   "execution_count": null,
   "metadata": {},
   "outputs": [],
   "source": [
    "# models = deepcopy(init_dict)"
   ]
  },
  {
   "cell_type": "code",
   "execution_count": null,
   "metadata": {
    "scrolled": false
   },
   "outputs": [],
   "source": [
    "#name = 'NTK'\n",
    "#plt.figure(figsize=(12, 6))\n",
    "#plot_training(models[name][1024], xs, ys, label=name)\n",
    "#plt.show()"
   ]
  },
  {
   "cell_type": "code",
   "execution_count": null,
   "metadata": {},
   "outputs": [],
   "source": [
    "#x = np.linspace(0, 6*np.pi, 100)\n",
    "#y = np.sin(x)\n",
    "\n",
    "# You probably won't need this if you're embedding things in a tkinter plot...\n",
    "#plt.ion()\n",
    "\n",
    "#fig = plt.figure()\n",
    "#ax = fig.add_subplot(111)\n",
    "#line1, = ax.plot(x, y, 'r-') # Returns a tuple of line objects, thus the comma\n",
    "\n",
    "#for phase in np.linspace(0, 10*np.pi, 500):\n",
    "#    line1.set_ydata(np.sin(x + phase))\n",
    "#    fig.canvas.draw()\n",
    "#    fig.canvas.flush_events()"
   ]
  },
  {
   "cell_type": "code",
   "execution_count": null,
   "metadata": {},
   "outputs": [],
   "source": []
  }
 ],
 "metadata": {
  "kernelspec": {
   "display_name": "Python 3",
   "language": "python",
   "name": "python3"
  },
  "language_info": {
   "codemirror_mode": {
    "name": "ipython",
    "version": 3
   },
   "file_extension": ".py",
   "mimetype": "text/x-python",
   "name": "python",
   "nbconvert_exporter": "python",
   "pygments_lexer": "ipython3",
   "version": "3.8.2"
  }
 },
 "nbformat": 4,
 "nbformat_minor": 4
}
