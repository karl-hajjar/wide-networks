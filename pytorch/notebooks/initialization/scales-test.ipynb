{
 "cells": [
  {
   "cell_type": "code",
   "execution_count": 1,
   "metadata": {},
   "outputs": [],
   "source": [
    "%load_ext autoreload\n",
    "%autoreload 2"
   ]
  },
  {
   "cell_type": "code",
   "execution_count": 2,
   "metadata": {},
   "outputs": [],
   "source": [
    "%matplotlib inline\n",
    "import matplotlib.pyplot as plt\n",
    "import seaborn as sns\n",
    "import torch\n",
    "import torch.nn as nn\n",
    "import numpy as np\n",
    "import math\n",
    "import pandas as pd\n",
    "import os\n",
    "from copy import deepcopy"
   ]
  },
  {
   "cell_type": "code",
   "execution_count": 3,
   "metadata": {},
   "outputs": [],
   "source": [
    "import sys\n",
    "sys.path.insert(0, '/Users/karlhajjar/Documents/projects/wide-networks/')\n",
    "\n",
    "import utils\n",
    "from utils.plot.initialization.network import FCNetwork, define_networks\n",
    "from utils.plot.initialization.graphs import *\n",
    "from utils.plot import set_plot_fonts\n",
    "from utils.tools import set_random_seeds"
   ]
  },
  {
   "cell_type": "code",
   "execution_count": 4,
   "metadata": {},
   "outputs": [],
   "source": [
    "sigma = nn.ReLU()\n",
    "d = 100  # dimension of the input data\n",
    "n = int(1e3)  # number of samples considered\n",
    "\n",
    "Ms = [50, 200, 500, 1000, 2000, 5000, 8000]  #, 10000 , 20000, 50000\n",
    "n_trials = 10\n",
    "L = 5\n",
    "\n",
    "x = 2 * torch.rand((n,d))\n",
    "y = x.mean(axis=1)  # target for each sample is the mean over the d dimensions of the values of the components\n",
    "batch_size = 256\n",
    "\n",
    "figsize = (11,8)\n",
    "\n",
    "# set the figure directory for the notebook\n",
    "figures_dir = '/Users/karlhajjar/Documents/projects/wide-networks/figures/initialization/standard/'\n",
    "utils.plot.initialization.graphs.figures_dir = figures_dir"
   ]
  },
  {
   "cell_type": "code",
   "execution_count": 5,
   "metadata": {},
   "outputs": [],
   "source": [
    "fonts_map = {'axes': {'titlesize': 20, 'labelsize': 18},\n",
    "             'xtick': {'labelsize': 18},\n",
    "             'ytick': {'labelsize': 18},\n",
    "             'legend': {'fontsize': 16}}\n",
    "\n",
    "set_plot_fonts(fonts_map)\n",
    "sns.set_palette(\"deep\")"
   ]
  },
  {
   "cell_type": "code",
   "execution_count": 6,
   "metadata": {},
   "outputs": [],
   "source": [
    "set_random_seeds()"
   ]
  },
  {
   "cell_type": "markdown",
   "metadata": {},
   "source": [
    "# 1) Manual"
   ]
  },
  {
   "cell_type": "code",
   "execution_count": 7,
   "metadata": {},
   "outputs": [
    {
     "data": {
      "text/plain": [
       "89.91783896619805"
      ]
     },
     "execution_count": 7,
     "metadata": {},
     "output_type": "execute_result"
    }
   ],
   "source": [
    "m = 200\n",
    "W = 2 * np.random.randn(m, d)\n",
    "outputs = np.matmul(x.detach().numpy(), np.transpose(W))\n",
    "max_act = np.max(np.abs(outputs))\n",
    "max_act"
   ]
  },
  {
   "cell_type": "code",
   "execution_count": 8,
   "metadata": {},
   "outputs": [
    {
     "data": {
      "text/plain": [
       "(1000, 200)"
      ]
     },
     "execution_count": 8,
     "metadata": {},
     "output_type": "execute_result"
    }
   ],
   "source": [
    "outputs.shape"
   ]
  },
  {
   "cell_type": "code",
   "execution_count": 13,
   "metadata": {},
   "outputs": [
    {
     "name": "stdout",
     "output_type": "stream",
     "text": [
      "(1000, 20)\n",
      "max_act :  106.39959717562475\n",
      "min_act :  0.0030734118310225987\n",
      "avg_act :  19.999370145476078\n",
      "(1000, 50)\n",
      "max_act :  80.17578613446447\n",
      "min_act :  0.0005065027463082473\n",
      "avg_act :  17.96446665730939\n",
      "(1000, 100)\n",
      "max_act :  99.10455426593543\n",
      "min_act :  0.00017097355016826846\n",
      "avg_act :  18.875146500938417\n",
      "(1000, 200)\n",
      "max_act :  102.05117922660321\n",
      "min_act :  0.0002656094464837319\n",
      "avg_act :  17.72249318888955\n",
      "(1000, 500)\n",
      "max_act :  102.01523758208775\n",
      "min_act :  0.00011638895951753187\n",
      "avg_act :  17.934980268266543\n",
      "(1000, 1000)\n",
      "max_act :  97.0723403976501\n",
      "min_act :  7.585351438040091e-05\n",
      "avg_act :  17.937684863002374\n",
      "(1000, 2000)\n",
      "max_act :  103.55373682183034\n",
      "min_act :  2.5216741312454843e-05\n",
      "avg_act :  18.174348285526165\n",
      "(1000, 5000)\n",
      "max_act :  115.26150377825778\n",
      "min_act :  4.803866481118733e-08\n",
      "avg_act :  18.439811923348895\n",
      "(1000, 10000)\n",
      "max_act :  120.26583277585176\n",
      "min_act :  3.874411788192707e-06\n",
      "avg_act :  18.394827369949553\n",
      "(1000, 12000)\n",
      "max_act :  123.22540648389895\n",
      "min_act :  1.2540630959851409e-06\n",
      "avg_act :  18.416507964969387\n",
      "(1000, 15000)\n",
      "max_act :  125.76480910118843\n",
      "min_act :  2.9017544552634878e-06\n",
      "avg_act :  18.43856313365926\n",
      "(1000, 20000)\n",
      "max_act :  126.38119660932686\n",
      "min_act :  1.1261532653200022e-07\n",
      "avg_act :  18.369972603554725\n",
      "(1000, 25000)\n",
      "max_act :  126.3399228204155\n",
      "min_act :  4.780016602253985e-06\n",
      "avg_act :  18.468584339210395\n",
      "(1000, 28000)\n",
      "max_act :  123.33814790139606\n",
      "min_act :  1.0398127614931777e-06\n",
      "avg_act :  18.395735891345318\n",
      "(1000, 30000)\n",
      "max_act :  127.51272008725887\n",
      "min_act :  2.0075473040158938e-07\n",
      "avg_act :  18.360781752296198\n",
      "(1000, 32000)\n",
      "max_act :  134.39404596667882\n",
      "min_act :  8.063411836305616e-07\n",
      "avg_act :  18.36285556596438\n",
      "(1000, 35000)\n",
      "max_act :  126.9571179742632\n",
      "min_act :  1.8491289991385994e-06\n",
      "avg_act :  18.45552661137448\n"
     ]
    }
   ],
   "source": [
    "for m in [20, 50, 100, 200, 500, 1000, 2000, 5000, 10000, 12000, 15000, 20000, 25000, 28000, 30000, 32000, 35000]:\n",
    "    W = 2 * np.random.randn(m, d)\n",
    "    outputs = np.matmul(x.detach().numpy(), np.transpose(W))\n",
    "    print(outputs.shape)\n",
    "    max_act = np.max(np.abs(outputs))\n",
    "    min_act = np.min(np.abs(outputs))\n",
    "    avg_act = np.mean(np.abs(outputs))\n",
    "    print('max_act : ', max_act)\n",
    "    print('min_act : ', min_act)\n",
    "    print('avg_act : ', avg_act)"
   ]
  },
  {
   "cell_type": "code",
   "execution_count": null,
   "metadata": {},
   "outputs": [],
   "source": []
  },
  {
   "cell_type": "code",
   "execution_count": null,
   "metadata": {},
   "outputs": [],
   "source": []
  }
 ],
 "metadata": {
  "kernelspec": {
   "display_name": "Python 3",
   "language": "python",
   "name": "python3"
  },
  "language_info": {
   "codemirror_mode": {
    "name": "ipython",
    "version": 3
   },
   "file_extension": ".py",
   "mimetype": "text/x-python",
   "name": "python",
   "nbconvert_exporter": "python",
   "pygments_lexer": "ipython3",
   "version": "3.8.2"
  }
 },
 "nbformat": 4,
 "nbformat_minor": 4
}
